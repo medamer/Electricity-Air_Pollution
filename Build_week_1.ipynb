{
  "nbformat": 4,
  "nbformat_minor": 0,
  "metadata": {
    "colab": {
      "name": "Build_week_1.ipynb",
      "provenance": [],
      "collapsed_sections": [],
      "authorship_tag": "ABX9TyOLg2CCxUUfa0lfNDilUzs0",
      "include_colab_link": true
    },
    "kernelspec": {
      "name": "python3",
      "display_name": "Python 3"
    }
  },
  "cells": [
    {
      "cell_type": "markdown",
      "metadata": {
        "id": "view-in-github",
        "colab_type": "text"
      },
      "source": [
        "<a href=\"https://colab.research.google.com/github/medamer/Built-week-1/blob/master/Build_week_1.ipynb\" target=\"_parent\"><img src=\"https://colab.research.google.com/assets/colab-badge.svg\" alt=\"Open In Colab\"/></a>"
      ]
    },
    {
      "cell_type": "markdown",
      "metadata": {
        "id": "B53_JRSU5kYb",
        "colab_type": "text"
      },
      "source": [
        "#Electricity And Air Pollution\n",
        "\n",
        "My project is about the electricity production using diffrent sources. I splited the sources to two categories, clean and no clean. Clean sources are Hydroelectric Conventional, Nuclear, Pumped Storage, Solar, and Wind. The clean sources are fossil fuels and materials that come from plants, municipal and industrial wastes.\n",
        "\n",
        "The source of the datatset used is US Energy Information Administration www.eia.gov"
      ]
    },
    {
      "cell_type": "markdown",
      "metadata": {
        "id": "3BEO0KGE_2g1",
        "colab_type": "text"
      },
      "source": [
        "#1.1-Import and cleand the data:\n",
        "   - Import the data.\n",
        "   - Add new column headers.\n",
        "   - Explore the data using describe function."
      ]
    },
    {
      "cell_type": "code",
      "metadata": {
        "id": "x3Jfy7a2pU3x",
        "colab_type": "code",
        "colab": {}
      },
      "source": [
        "#Import all the libraries I'll need:\n",
        "import pandas as pd\n",
        "import numpy as np\n",
        "import matplotlib.pyplot as plt\n",
        "import seaborn as sns"
      ],
      "execution_count": 0,
      "outputs": []
    },
    {
      "cell_type": "code",
      "metadata": {
        "id": "axlbQaeqpedY",
        "colab_type": "code",
        "outputId": "4e89b632-3896-4472-8cc5-2152b6287e4b",
        "colab": {
          "resources": {
            "http://localhost:8080/nbextensions/google.colab/files.js": {
              "data": "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",
              "ok": true,
              "headers": [
                [
                  "content-type",
                  "application/javascript"
                ]
              ],
              "status": 200,
              "status_text": ""
            }
          },
          "base_uri": "https://localhost:8080/",
          "height": 75
        }
      },
      "source": [
        "# Uploading the 1st file from the local machine:\n",
        "from google.colab import files\n",
        "uploaded = files.upload()"
      ],
      "execution_count": 0,
      "outputs": [
        {
          "output_type": "display_data",
          "data": {
            "text/html": [
              "\n",
              "     <input type=\"file\" id=\"files-18919da0-e38c-4667-bb57-71d2e4819a46\" name=\"files[]\" multiple disabled />\n",
              "     <output id=\"result-18919da0-e38c-4667-bb57-71d2e4819a46\">\n",
              "      Upload widget is only available when the cell has been executed in the\n",
              "      current browser session. Please rerun this cell to enable.\n",
              "      </output>\n",
              "      <script src=\"/nbextensions/google.colab/files.js\"></script> "
            ],
            "text/plain": [
              "<IPython.core.display.HTML object>"
            ]
          },
          "metadata": {
            "tags": []
          }
        },
        {
          "output_type": "stream",
          "text": [
            "Saving Elec gen emission.xls to Elec gen emission.xls\n"
          ],
          "name": "stdout"
        }
      ]
    },
    {
      "cell_type": "code",
      "metadata": {
        "id": "4HOvhRxrqMD8",
        "colab_type": "code",
        "colab": {}
      },
      "source": [
        "# Uploading the datasset Excel file and adding columns header:\n",
        "import io\n",
        "column_header = ['year', 'state', 'energy_source', 'CO2(Tons)',\t'SO2(Tons)',\t'NOx(Tons)']\n",
        "df1 = pd.read_excel(io.BytesIO(uploaded['Elec gen emission.xls']), names = column_header)"
      ],
      "execution_count": 0,
      "outputs": []
    },
    {
      "cell_type": "code",
      "metadata": {
        "id": "wG3Ej1xW970n",
        "colab_type": "code",
        "outputId": "73f88fa8-3a4d-4f60-b4d1-6d0e0b6287e5",
        "colab": {
          "base_uri": "https://localhost:8080/",
          "height": 198
        }
      },
      "source": [
        "# Make a copie of the original file and check our dataset:\n",
        "emission = df1.copy()\n",
        "emission.head()"
      ],
      "execution_count": 0,
      "outputs": [
        {
          "output_type": "execute_result",
          "data": {
            "text/html": [
              "<div>\n",
              "<style scoped>\n",
              "    .dataframe tbody tr th:only-of-type {\n",
              "        vertical-align: middle;\n",
              "    }\n",
              "\n",
              "    .dataframe tbody tr th {\n",
              "        vertical-align: top;\n",
              "    }\n",
              "\n",
              "    .dataframe thead th {\n",
              "        text-align: right;\n",
              "    }\n",
              "</style>\n",
              "<table border=\"1\" class=\"dataframe\">\n",
              "  <thead>\n",
              "    <tr style=\"text-align: right;\">\n",
              "      <th></th>\n",
              "      <th>year</th>\n",
              "      <th>state</th>\n",
              "      <th>energy_source</th>\n",
              "      <th>CO2(Tons)</th>\n",
              "      <th>SO2(Tons)</th>\n",
              "      <th>NOx(Tons)</th>\n",
              "    </tr>\n",
              "  </thead>\n",
              "  <tbody>\n",
              "    <tr>\n",
              "      <th>0</th>\n",
              "      <td>1990</td>\n",
              "      <td>AK</td>\n",
              "      <td>All Sources</td>\n",
              "      <td>8417618</td>\n",
              "      <td>37482</td>\n",
              "      <td>25124</td>\n",
              "    </tr>\n",
              "    <tr>\n",
              "      <th>1</th>\n",
              "      <td>1990</td>\n",
              "      <td>AK</td>\n",
              "      <td>Coal</td>\n",
              "      <td>2936718</td>\n",
              "      <td>28046</td>\n",
              "      <td>11780</td>\n",
              "    </tr>\n",
              "    <tr>\n",
              "      <th>2</th>\n",
              "      <td>1990</td>\n",
              "      <td>AK</td>\n",
              "      <td>Natural Gas</td>\n",
              "      <td>4805316</td>\n",
              "      <td>22</td>\n",
              "      <td>11076</td>\n",
              "    </tr>\n",
              "    <tr>\n",
              "      <th>3</th>\n",
              "      <td>1990</td>\n",
              "      <td>AK</td>\n",
              "      <td>Other</td>\n",
              "      <td>0</td>\n",
              "      <td>1968</td>\n",
              "      <td>458</td>\n",
              "    </tr>\n",
              "    <tr>\n",
              "      <th>4</th>\n",
              "      <td>1990</td>\n",
              "      <td>AK</td>\n",
              "      <td>Petroleum</td>\n",
              "      <td>675584</td>\n",
              "      <td>7445</td>\n",
              "      <td>1808</td>\n",
              "    </tr>\n",
              "  </tbody>\n",
              "</table>\n",
              "</div>"
            ],
            "text/plain": [
              "   year state energy_source  CO2(Tons)  SO2(Tons)  NOx(Tons)\n",
              "0  1990    AK   All Sources    8417618      37482      25124\n",
              "1  1990    AK          Coal    2936718      28046      11780\n",
              "2  1990    AK   Natural Gas    4805316         22      11076\n",
              "3  1990    AK         Other          0       1968        458\n",
              "4  1990    AK     Petroleum     675584       7445       1808"
            ]
          },
          "metadata": {
            "tags": []
          },
          "execution_count": 5
        }
      ]
    },
    {
      "cell_type": "code",
      "metadata": {
        "id": "n9C2crh2tLc8",
        "colab_type": "code",
        "outputId": "45fd39e0-567d-41b6-ead2-388086489073",
        "colab": {
          "resources": {
            "http://localhost:8080/nbextensions/google.colab/files.js": {
              "data": "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",
              "ok": true,
              "headers": [
                [
                  "content-type",
                  "application/javascript"
                ]
              ],
              "status": 200,
              "status_text": ""
            }
          },
          "base_uri": "https://localhost:8080/",
          "height": 75
        }
      },
      "source": [
        "# Uploading the 2nd file from the local machine:\n",
        "uploaded2 = files.upload()"
      ],
      "execution_count": 0,
      "outputs": [
        {
          "output_type": "display_data",
          "data": {
            "text/html": [
              "\n",
              "     <input type=\"file\" id=\"files-4a5ed806-b1bc-4d7c-bbd4-05ce2006eaa0\" name=\"files[]\" multiple disabled />\n",
              "     <output id=\"result-4a5ed806-b1bc-4d7c-bbd4-05ce2006eaa0\">\n",
              "      Upload widget is only available when the cell has been executed in the\n",
              "      current browser session. Please rerun this cell to enable.\n",
              "      </output>\n",
              "      <script src=\"/nbextensions/google.colab/files.js\"></script> "
            ],
            "text/plain": [
              "<IPython.core.display.HTML object>"
            ]
          },
          "metadata": {
            "tags": []
          }
        },
        {
          "output_type": "stream",
          "text": [
            "Saving electricity by state.xls to electricity by state.xls\n"
          ],
          "name": "stdout"
        }
      ]
    },
    {
      "cell_type": "code",
      "metadata": {
        "id": "rNSXfwN_q9yn",
        "colab_type": "code",
        "colab": {}
      },
      "source": [
        "# Uploading the datasset Excel file and adding columns header:\n",
        "column_header2 = ['year', 'state', 'energy_source','non_clean_source','clean_source', 'generation (MWH)']\n",
        "df2 = pd.read_excel(io.BytesIO(uploaded2['electricity by state.xls']), names = column_header2)"
      ],
      "execution_count": 0,
      "outputs": []
    },
    {
      "cell_type": "code",
      "metadata": {
        "id": "Q1BOnckJ-Yn9",
        "colab_type": "code",
        "outputId": "ee780627-edf1-4854-fb73-c159517434a4",
        "colab": {
          "base_uri": "https://localhost:8080/",
          "height": 198
        }
      },
      "source": [
        "# Make a copie of the original file and check our dataset:\n",
        "elec = df2.copy()\n",
        "elec.head()"
      ],
      "execution_count": 0,
      "outputs": [
        {
          "output_type": "execute_result",
          "data": {
            "text/html": [
              "<div>\n",
              "<style scoped>\n",
              "    .dataframe tbody tr th:only-of-type {\n",
              "        vertical-align: middle;\n",
              "    }\n",
              "\n",
              "    .dataframe tbody tr th {\n",
              "        vertical-align: top;\n",
              "    }\n",
              "\n",
              "    .dataframe thead th {\n",
              "        text-align: right;\n",
              "    }\n",
              "</style>\n",
              "<table border=\"1\" class=\"dataframe\">\n",
              "  <thead>\n",
              "    <tr style=\"text-align: right;\">\n",
              "      <th></th>\n",
              "      <th>year</th>\n",
              "      <th>state</th>\n",
              "      <th>energy_source</th>\n",
              "      <th>non_clean_source</th>\n",
              "      <th>clean_source</th>\n",
              "      <th>generation (MWH)</th>\n",
              "    </tr>\n",
              "  </thead>\n",
              "  <tbody>\n",
              "    <tr>\n",
              "      <th>0</th>\n",
              "      <td>1990</td>\n",
              "      <td>AK</td>\n",
              "      <td>Coal</td>\n",
              "      <td>1021146.0</td>\n",
              "      <td>0.0</td>\n",
              "      <td>1021146.0</td>\n",
              "    </tr>\n",
              "    <tr>\n",
              "      <th>1</th>\n",
              "      <td>1990</td>\n",
              "      <td>AK</td>\n",
              "      <td>Hydroelectric Conventional</td>\n",
              "      <td>0.0</td>\n",
              "      <td>1949042.0</td>\n",
              "      <td>1949042.0</td>\n",
              "    </tr>\n",
              "    <tr>\n",
              "      <th>2</th>\n",
              "      <td>1990</td>\n",
              "      <td>AK</td>\n",
              "      <td>Natural Gas</td>\n",
              "      <td>6932522.0</td>\n",
              "      <td>0.0</td>\n",
              "      <td>6932522.0</td>\n",
              "    </tr>\n",
              "    <tr>\n",
              "      <th>3</th>\n",
              "      <td>1990</td>\n",
              "      <td>AK</td>\n",
              "      <td>Petroleum</td>\n",
              "      <td>994232.0</td>\n",
              "      <td>0.0</td>\n",
              "      <td>994232.0</td>\n",
              "    </tr>\n",
              "    <tr>\n",
              "      <th>4</th>\n",
              "      <td>1990</td>\n",
              "      <td>AK</td>\n",
              "      <td>Total</td>\n",
              "      <td>0.0</td>\n",
              "      <td>11199012.0</td>\n",
              "      <td>11199012.0</td>\n",
              "    </tr>\n",
              "  </tbody>\n",
              "</table>\n",
              "</div>"
            ],
            "text/plain": [
              "   year state  ... clean_source  generation (MWH)\n",
              "0  1990    AK  ...          0.0         1021146.0\n",
              "1  1990    AK  ...    1949042.0         1949042.0\n",
              "2  1990    AK  ...          0.0         6932522.0\n",
              "3  1990    AK  ...          0.0          994232.0\n",
              "4  1990    AK  ...   11199012.0        11199012.0\n",
              "\n",
              "[5 rows x 6 columns]"
            ]
          },
          "metadata": {
            "tags": []
          },
          "execution_count": 9
        }
      ]
    },
    {
      "cell_type": "code",
      "metadata": {
        "id": "rrvFMVmt21Wu",
        "colab_type": "code",
        "outputId": "c7476a90-078a-4331-917a-7360656ad4b6",
        "colab": {
          "base_uri": "https://localhost:8080/",
          "height": 288
        }
      },
      "source": [
        "# Check the description:\n",
        "elec.describe()"
      ],
      "execution_count": 0,
      "outputs": [
        {
          "output_type": "execute_result",
          "data": {
            "text/html": [
              "<div>\n",
              "<style scoped>\n",
              "    .dataframe tbody tr th:only-of-type {\n",
              "        vertical-align: middle;\n",
              "    }\n",
              "\n",
              "    .dataframe tbody tr th {\n",
              "        vertical-align: top;\n",
              "    }\n",
              "\n",
              "    .dataframe thead th {\n",
              "        text-align: right;\n",
              "    }\n",
              "</style>\n",
              "<table border=\"1\" class=\"dataframe\">\n",
              "  <thead>\n",
              "    <tr style=\"text-align: right;\">\n",
              "      <th></th>\n",
              "      <th>year</th>\n",
              "      <th>non_clean_source</th>\n",
              "      <th>clean_source</th>\n",
              "      <th>generation (MWH)</th>\n",
              "    </tr>\n",
              "  </thead>\n",
              "  <tbody>\n",
              "    <tr>\n",
              "      <th>count</th>\n",
              "      <td>13812.000000</td>\n",
              "      <td>1.381200e+04</td>\n",
              "      <td>1.381200e+04</td>\n",
              "      <td>1.381200e+04</td>\n",
              "    </tr>\n",
              "    <tr>\n",
              "      <th>mean</th>\n",
              "      <td>2004.741384</td>\n",
              "      <td>1.130030e+07</td>\n",
              "      <td>2.045234e+07</td>\n",
              "      <td>3.175264e+07</td>\n",
              "    </tr>\n",
              "    <tr>\n",
              "      <th>std</th>\n",
              "      <td>8.371057</td>\n",
              "      <td>3.779178e+07</td>\n",
              "      <td>6.581736e+07</td>\n",
              "      <td>7.278650e+07</td>\n",
              "    </tr>\n",
              "    <tr>\n",
              "      <th>min</th>\n",
              "      <td>1990.000000</td>\n",
              "      <td>-9.686600e+04</td>\n",
              "      <td>-4.480154e+06</td>\n",
              "      <td>-4.480154e+06</td>\n",
              "    </tr>\n",
              "    <tr>\n",
              "      <th>25%</th>\n",
              "      <td>1998.000000</td>\n",
              "      <td>0.000000e+00</td>\n",
              "      <td>0.000000e+00</td>\n",
              "      <td>1.988110e+05</td>\n",
              "    </tr>\n",
              "    <tr>\n",
              "      <th>50%</th>\n",
              "      <td>2005.000000</td>\n",
              "      <td>7.747800e+04</td>\n",
              "      <td>0.000000e+00</td>\n",
              "      <td>2.306989e+06</td>\n",
              "    </tr>\n",
              "    <tr>\n",
              "      <th>75%</th>\n",
              "      <td>2012.000000</td>\n",
              "      <td>2.128218e+06</td>\n",
              "      <td>2.540094e+06</td>\n",
              "      <td>2.411787e+07</td>\n",
              "    </tr>\n",
              "    <tr>\n",
              "      <th>max</th>\n",
              "      <td>2018.000000</td>\n",
              "      <td>4.794262e+08</td>\n",
              "      <td>9.547048e+08</td>\n",
              "      <td>9.547048e+08</td>\n",
              "    </tr>\n",
              "  </tbody>\n",
              "</table>\n",
              "</div>"
            ],
            "text/plain": [
              "               year  non_clean_source  clean_source  generation (MWH)\n",
              "count  13812.000000      1.381200e+04  1.381200e+04      1.381200e+04\n",
              "mean    2004.741384      1.130030e+07  2.045234e+07      3.175264e+07\n",
              "std        8.371057      3.779178e+07  6.581736e+07      7.278650e+07\n",
              "min     1990.000000     -9.686600e+04 -4.480154e+06     -4.480154e+06\n",
              "25%     1998.000000      0.000000e+00  0.000000e+00      1.988110e+05\n",
              "50%     2005.000000      7.747800e+04  0.000000e+00      2.306989e+06\n",
              "75%     2012.000000      2.128218e+06  2.540094e+06      2.411787e+07\n",
              "max     2018.000000      4.794262e+08  9.547048e+08      9.547048e+08"
            ]
          },
          "metadata": {
            "tags": []
          },
          "execution_count": 10
        }
      ]
    },
    {
      "cell_type": "code",
      "metadata": {
        "id": "WQ7oINsx2-8H",
        "colab_type": "code",
        "outputId": "6154d157-7c63-40f0-96f6-ee8e84b04cd6",
        "colab": {
          "base_uri": "https://localhost:8080/",
          "height": 288
        }
      },
      "source": [
        "# Check the description:\n",
        "emission.describe()"
      ],
      "execution_count": 0,
      "outputs": [
        {
          "output_type": "execute_result",
          "data": {
            "text/html": [
              "<div>\n",
              "<style scoped>\n",
              "    .dataframe tbody tr th:only-of-type {\n",
              "        vertical-align: middle;\n",
              "    }\n",
              "\n",
              "    .dataframe tbody tr th {\n",
              "        vertical-align: top;\n",
              "    }\n",
              "\n",
              "    .dataframe thead th {\n",
              "        text-align: right;\n",
              "    }\n",
              "</style>\n",
              "<table border=\"1\" class=\"dataframe\">\n",
              "  <thead>\n",
              "    <tr style=\"text-align: right;\">\n",
              "      <th></th>\n",
              "      <th>year</th>\n",
              "      <th>CO2(Tons)</th>\n",
              "      <th>SO2(Tons)</th>\n",
              "      <th>NOx(Tons)</th>\n",
              "    </tr>\n",
              "  </thead>\n",
              "  <tbody>\n",
              "    <tr>\n",
              "      <th>count</th>\n",
              "      <td>9414.000000</td>\n",
              "      <td>9.414000e+03</td>\n",
              "      <td>9.414000e+03</td>\n",
              "      <td>9.414000e+03</td>\n",
              "    </tr>\n",
              "    <tr>\n",
              "      <th>mean</th>\n",
              "      <td>2004.674634</td>\n",
              "      <td>2.750423e+07</td>\n",
              "      <td>1.132690e+05</td>\n",
              "      <td>5.558989e+04</td>\n",
              "    </tr>\n",
              "    <tr>\n",
              "      <th>std</th>\n",
              "      <td>8.104061</td>\n",
              "      <td>5.732649e+07</td>\n",
              "      <td>3.363518e+05</td>\n",
              "      <td>1.308351e+05</td>\n",
              "    </tr>\n",
              "    <tr>\n",
              "      <th>min</th>\n",
              "      <td>1990.000000</td>\n",
              "      <td>0.000000e+00</td>\n",
              "      <td>0.000000e+00</td>\n",
              "      <td>0.000000e+00</td>\n",
              "    </tr>\n",
              "    <tr>\n",
              "      <th>25%</th>\n",
              "      <td>1998.000000</td>\n",
              "      <td>0.000000e+00</td>\n",
              "      <td>2.200000e+01</td>\n",
              "      <td>7.820000e+02</td>\n",
              "    </tr>\n",
              "    <tr>\n",
              "      <th>50%</th>\n",
              "      <td>2005.000000</td>\n",
              "      <td>1.132304e+06</td>\n",
              "      <td>1.008000e+03</td>\n",
              "      <td>4.797000e+03</td>\n",
              "    </tr>\n",
              "    <tr>\n",
              "      <th>75%</th>\n",
              "      <td>2012.000000</td>\n",
              "      <td>2.372959e+07</td>\n",
              "      <td>4.706350e+04</td>\n",
              "      <td>3.543450e+04</td>\n",
              "    </tr>\n",
              "    <tr>\n",
              "      <th>max</th>\n",
              "      <td>2018.000000</td>\n",
              "      <td>5.349282e+08</td>\n",
              "      <td>4.091966e+06</td>\n",
              "      <td>1.384336e+06</td>\n",
              "    </tr>\n",
              "  </tbody>\n",
              "</table>\n",
              "</div>"
            ],
            "text/plain": [
              "              year     CO2(Tons)     SO2(Tons)     NOx(Tons)\n",
              "count  9414.000000  9.414000e+03  9.414000e+03  9.414000e+03\n",
              "mean   2004.674634  2.750423e+07  1.132690e+05  5.558989e+04\n",
              "std       8.104061  5.732649e+07  3.363518e+05  1.308351e+05\n",
              "min    1990.000000  0.000000e+00  0.000000e+00  0.000000e+00\n",
              "25%    1998.000000  0.000000e+00  2.200000e+01  7.820000e+02\n",
              "50%    2005.000000  1.132304e+06  1.008000e+03  4.797000e+03\n",
              "75%    2012.000000  2.372959e+07  4.706350e+04  3.543450e+04\n",
              "max    2018.000000  5.349282e+08  4.091966e+06  1.384336e+06"
            ]
          },
          "metadata": {
            "tags": []
          },
          "execution_count": 11
        }
      ]
    },
    {
      "cell_type": "markdown",
      "metadata": {
        "id": "DFXcZcK0AbGQ",
        "colab_type": "text"
      },
      "source": [
        "#1.2- Data wrangling:\n",
        "  - Add columns.\n",
        "  - Remove the sub-totals from both datasets.\n",
        "  - Check the shape.\n",
        "  - Join the two datasets using the function merge.\n",
        "  - Check for missing value and replace them with zeros."
      ]
    },
    {
      "cell_type": "code",
      "metadata": {
        "id": "rz0RfIn63cv0",
        "colab_type": "code",
        "outputId": "4e630612-c04e-46d6-efe3-294dc68853f2",
        "colab": {
          "base_uri": "https://localhost:8080/",
          "height": 198
        }
      },
      "source": [
        "# Combine all types of emissions in one column, without dropping the originals:\n",
        "emission['emissions'] = emission['CO2(Tons)']+emission['SO2(Tons)']+emission['NOx(Tons)']\n",
        "emission.head()"
      ],
      "execution_count": 0,
      "outputs": [
        {
          "output_type": "execute_result",
          "data": {
            "text/html": [
              "<div>\n",
              "<style scoped>\n",
              "    .dataframe tbody tr th:only-of-type {\n",
              "        vertical-align: middle;\n",
              "    }\n",
              "\n",
              "    .dataframe tbody tr th {\n",
              "        vertical-align: top;\n",
              "    }\n",
              "\n",
              "    .dataframe thead th {\n",
              "        text-align: right;\n",
              "    }\n",
              "</style>\n",
              "<table border=\"1\" class=\"dataframe\">\n",
              "  <thead>\n",
              "    <tr style=\"text-align: right;\">\n",
              "      <th></th>\n",
              "      <th>year</th>\n",
              "      <th>state</th>\n",
              "      <th>energy_source</th>\n",
              "      <th>CO2(Tons)</th>\n",
              "      <th>SO2(Tons)</th>\n",
              "      <th>NOx(Tons)</th>\n",
              "      <th>emissions</th>\n",
              "    </tr>\n",
              "  </thead>\n",
              "  <tbody>\n",
              "    <tr>\n",
              "      <th>0</th>\n",
              "      <td>1990</td>\n",
              "      <td>AK</td>\n",
              "      <td>All Sources</td>\n",
              "      <td>8417618</td>\n",
              "      <td>37482</td>\n",
              "      <td>25124</td>\n",
              "      <td>8480224</td>\n",
              "    </tr>\n",
              "    <tr>\n",
              "      <th>1</th>\n",
              "      <td>1990</td>\n",
              "      <td>AK</td>\n",
              "      <td>Coal</td>\n",
              "      <td>2936718</td>\n",
              "      <td>28046</td>\n",
              "      <td>11780</td>\n",
              "      <td>2976544</td>\n",
              "    </tr>\n",
              "    <tr>\n",
              "      <th>2</th>\n",
              "      <td>1990</td>\n",
              "      <td>AK</td>\n",
              "      <td>Natural Gas</td>\n",
              "      <td>4805316</td>\n",
              "      <td>22</td>\n",
              "      <td>11076</td>\n",
              "      <td>4816414</td>\n",
              "    </tr>\n",
              "    <tr>\n",
              "      <th>3</th>\n",
              "      <td>1990</td>\n",
              "      <td>AK</td>\n",
              "      <td>Other</td>\n",
              "      <td>0</td>\n",
              "      <td>1968</td>\n",
              "      <td>458</td>\n",
              "      <td>2426</td>\n",
              "    </tr>\n",
              "    <tr>\n",
              "      <th>4</th>\n",
              "      <td>1990</td>\n",
              "      <td>AK</td>\n",
              "      <td>Petroleum</td>\n",
              "      <td>675584</td>\n",
              "      <td>7445</td>\n",
              "      <td>1808</td>\n",
              "      <td>684837</td>\n",
              "    </tr>\n",
              "  </tbody>\n",
              "</table>\n",
              "</div>"
            ],
            "text/plain": [
              "   year state energy_source  CO2(Tons)  SO2(Tons)  NOx(Tons)  emissions\n",
              "0  1990    AK   All Sources    8417618      37482      25124    8480224\n",
              "1  1990    AK          Coal    2936718      28046      11780    2976544\n",
              "2  1990    AK   Natural Gas    4805316         22      11076    4816414\n",
              "3  1990    AK         Other          0       1968        458       2426\n",
              "4  1990    AK     Petroleum     675584       7445       1808     684837"
            ]
          },
          "metadata": {
            "tags": []
          },
          "execution_count": 12
        }
      ]
    },
    {
      "cell_type": "code",
      "metadata": {
        "id": "n_pzP2Zs9U62",
        "colab_type": "code",
        "outputId": "69d881b5-b527-4a7b-8086-d4a760fbfdcb",
        "colab": {
          "base_uri": "https://localhost:8080/",
          "height": 198
        }
      },
      "source": [
        "# Remove the rows containig sub-totals:\n",
        "emission = emission[~emission.energy_source.str.contains('All Sources')]\n",
        "emission.head()"
      ],
      "execution_count": 0,
      "outputs": [
        {
          "output_type": "execute_result",
          "data": {
            "text/html": [
              "<div>\n",
              "<style scoped>\n",
              "    .dataframe tbody tr th:only-of-type {\n",
              "        vertical-align: middle;\n",
              "    }\n",
              "\n",
              "    .dataframe tbody tr th {\n",
              "        vertical-align: top;\n",
              "    }\n",
              "\n",
              "    .dataframe thead th {\n",
              "        text-align: right;\n",
              "    }\n",
              "</style>\n",
              "<table border=\"1\" class=\"dataframe\">\n",
              "  <thead>\n",
              "    <tr style=\"text-align: right;\">\n",
              "      <th></th>\n",
              "      <th>year</th>\n",
              "      <th>state</th>\n",
              "      <th>energy_source</th>\n",
              "      <th>CO2(Tons)</th>\n",
              "      <th>SO2(Tons)</th>\n",
              "      <th>NOx(Tons)</th>\n",
              "      <th>emissions</th>\n",
              "    </tr>\n",
              "  </thead>\n",
              "  <tbody>\n",
              "    <tr>\n",
              "      <th>1</th>\n",
              "      <td>1990</td>\n",
              "      <td>AK</td>\n",
              "      <td>Coal</td>\n",
              "      <td>2936718</td>\n",
              "      <td>28046</td>\n",
              "      <td>11780</td>\n",
              "      <td>2976544</td>\n",
              "    </tr>\n",
              "    <tr>\n",
              "      <th>2</th>\n",
              "      <td>1990</td>\n",
              "      <td>AK</td>\n",
              "      <td>Natural Gas</td>\n",
              "      <td>4805316</td>\n",
              "      <td>22</td>\n",
              "      <td>11076</td>\n",
              "      <td>4816414</td>\n",
              "    </tr>\n",
              "    <tr>\n",
              "      <th>3</th>\n",
              "      <td>1990</td>\n",
              "      <td>AK</td>\n",
              "      <td>Other</td>\n",
              "      <td>0</td>\n",
              "      <td>1968</td>\n",
              "      <td>458</td>\n",
              "      <td>2426</td>\n",
              "    </tr>\n",
              "    <tr>\n",
              "      <th>4</th>\n",
              "      <td>1990</td>\n",
              "      <td>AK</td>\n",
              "      <td>Petroleum</td>\n",
              "      <td>675584</td>\n",
              "      <td>7445</td>\n",
              "      <td>1808</td>\n",
              "      <td>684837</td>\n",
              "    </tr>\n",
              "    <tr>\n",
              "      <th>6</th>\n",
              "      <td>1990</td>\n",
              "      <td>AL</td>\n",
              "      <td>Coal</td>\n",
              "      <td>103158948</td>\n",
              "      <td>970457</td>\n",
              "      <td>420795</td>\n",
              "      <td>104550200</td>\n",
              "    </tr>\n",
              "  </tbody>\n",
              "</table>\n",
              "</div>"
            ],
            "text/plain": [
              "   year state energy_source  CO2(Tons)  SO2(Tons)  NOx(Tons)  emissions\n",
              "1  1990    AK          Coal    2936718      28046      11780    2976544\n",
              "2  1990    AK   Natural Gas    4805316         22      11076    4816414\n",
              "3  1990    AK         Other          0       1968        458       2426\n",
              "4  1990    AK     Petroleum     675584       7445       1808     684837\n",
              "6  1990    AL          Coal  103158948     970457     420795  104550200"
            ]
          },
          "metadata": {
            "tags": []
          },
          "execution_count": 13
        }
      ]
    },
    {
      "cell_type": "code",
      "metadata": {
        "id": "upAcf4-7_FYi",
        "colab_type": "code",
        "outputId": "dbe8e4e8-23f8-4e07-c7a2-138270f7c26d",
        "colab": {
          "base_uri": "https://localhost:8080/",
          "height": 198
        }
      },
      "source": [
        "# Remove the rows containig sub-totals:\n",
        "elec = elec[~elec.energy_source.str.contains('Total')]\n",
        "elec.head()"
      ],
      "execution_count": 0,
      "outputs": [
        {
          "output_type": "execute_result",
          "data": {
            "text/html": [
              "<div>\n",
              "<style scoped>\n",
              "    .dataframe tbody tr th:only-of-type {\n",
              "        vertical-align: middle;\n",
              "    }\n",
              "\n",
              "    .dataframe tbody tr th {\n",
              "        vertical-align: top;\n",
              "    }\n",
              "\n",
              "    .dataframe thead th {\n",
              "        text-align: right;\n",
              "    }\n",
              "</style>\n",
              "<table border=\"1\" class=\"dataframe\">\n",
              "  <thead>\n",
              "    <tr style=\"text-align: right;\">\n",
              "      <th></th>\n",
              "      <th>year</th>\n",
              "      <th>state</th>\n",
              "      <th>energy_source</th>\n",
              "      <th>non_clean_source</th>\n",
              "      <th>clean_source</th>\n",
              "      <th>generation (MWH)</th>\n",
              "    </tr>\n",
              "  </thead>\n",
              "  <tbody>\n",
              "    <tr>\n",
              "      <th>0</th>\n",
              "      <td>1990</td>\n",
              "      <td>AK</td>\n",
              "      <td>Coal</td>\n",
              "      <td>1021146.0</td>\n",
              "      <td>0.0</td>\n",
              "      <td>1021146.0</td>\n",
              "    </tr>\n",
              "    <tr>\n",
              "      <th>1</th>\n",
              "      <td>1990</td>\n",
              "      <td>AK</td>\n",
              "      <td>Hydroelectric Conventional</td>\n",
              "      <td>0.0</td>\n",
              "      <td>1949042.0</td>\n",
              "      <td>1949042.0</td>\n",
              "    </tr>\n",
              "    <tr>\n",
              "      <th>2</th>\n",
              "      <td>1990</td>\n",
              "      <td>AK</td>\n",
              "      <td>Natural Gas</td>\n",
              "      <td>6932522.0</td>\n",
              "      <td>0.0</td>\n",
              "      <td>6932522.0</td>\n",
              "    </tr>\n",
              "    <tr>\n",
              "      <th>3</th>\n",
              "      <td>1990</td>\n",
              "      <td>AK</td>\n",
              "      <td>Petroleum</td>\n",
              "      <td>994232.0</td>\n",
              "      <td>0.0</td>\n",
              "      <td>994232.0</td>\n",
              "    </tr>\n",
              "    <tr>\n",
              "      <th>5</th>\n",
              "      <td>1990</td>\n",
              "      <td>AK</td>\n",
              "      <td>Wind</td>\n",
              "      <td>0.0</td>\n",
              "      <td>0.0</td>\n",
              "      <td>0.0</td>\n",
              "    </tr>\n",
              "  </tbody>\n",
              "</table>\n",
              "</div>"
            ],
            "text/plain": [
              "   year state  ... clean_source  generation (MWH)\n",
              "0  1990    AK  ...          0.0         1021146.0\n",
              "1  1990    AK  ...    1949042.0         1949042.0\n",
              "2  1990    AK  ...          0.0         6932522.0\n",
              "3  1990    AK  ...          0.0          994232.0\n",
              "5  1990    AK  ...          0.0               0.0\n",
              "\n",
              "[5 rows x 6 columns]"
            ]
          },
          "metadata": {
            "tags": []
          },
          "execution_count": 14
        }
      ]
    },
    {
      "cell_type": "code",
      "metadata": {
        "id": "5rMRL4vPCKDy",
        "colab_type": "code",
        "outputId": "016b909e-2511-494f-f6d5-e2b0de1a952d",
        "colab": {
          "base_uri": "https://localhost:8080/",
          "height": 35
        }
      },
      "source": [
        "# Check the shape of our dataset:\n",
        "emission.shape"
      ],
      "execution_count": 0,
      "outputs": [
        {
          "output_type": "execute_result",
          "data": {
            "text/plain": [
              "(7935, 7)"
            ]
          },
          "metadata": {
            "tags": []
          },
          "execution_count": 15
        }
      ]
    },
    {
      "cell_type": "code",
      "metadata": {
        "id": "ra83h655C7rP",
        "colab_type": "code",
        "outputId": "9e5900e9-bea2-4289-a64f-7b7a770e1fea",
        "colab": {
          "base_uri": "https://localhost:8080/",
          "height": 35
        }
      },
      "source": [
        "# Check the shape of our dataset:\n",
        "elec.shape"
      ],
      "execution_count": 0,
      "outputs": [
        {
          "output_type": "execute_result",
          "data": {
            "text/plain": [
              "(12333, 6)"
            ]
          },
          "metadata": {
            "tags": []
          },
          "execution_count": 16
        }
      ]
    },
    {
      "cell_type": "code",
      "metadata": {
        "id": "CZE9MkTeC_eG",
        "colab_type": "code",
        "outputId": "4866346e-3be1-44d5-d1a7-80237a0f3186",
        "colab": {
          "base_uri": "https://localhost:8080/",
          "height": 198
        }
      },
      "source": [
        "# Join the 2 datasets using the function merge:\n",
        "elec_emissions = pd.merge(elec, emission, how = 'outer', on = ['year', 'state', 'energy_source'])\n",
        "elec_emissions.head()"
      ],
      "execution_count": 0,
      "outputs": [
        {
          "output_type": "execute_result",
          "data": {
            "text/html": [
              "<div>\n",
              "<style scoped>\n",
              "    .dataframe tbody tr th:only-of-type {\n",
              "        vertical-align: middle;\n",
              "    }\n",
              "\n",
              "    .dataframe tbody tr th {\n",
              "        vertical-align: top;\n",
              "    }\n",
              "\n",
              "    .dataframe thead th {\n",
              "        text-align: right;\n",
              "    }\n",
              "</style>\n",
              "<table border=\"1\" class=\"dataframe\">\n",
              "  <thead>\n",
              "    <tr style=\"text-align: right;\">\n",
              "      <th></th>\n",
              "      <th>year</th>\n",
              "      <th>state</th>\n",
              "      <th>energy_source</th>\n",
              "      <th>non_clean_source</th>\n",
              "      <th>clean_source</th>\n",
              "      <th>generation (MWH)</th>\n",
              "      <th>CO2(Tons)</th>\n",
              "      <th>SO2(Tons)</th>\n",
              "      <th>NOx(Tons)</th>\n",
              "      <th>emissions</th>\n",
              "    </tr>\n",
              "  </thead>\n",
              "  <tbody>\n",
              "    <tr>\n",
              "      <th>0</th>\n",
              "      <td>1990</td>\n",
              "      <td>AK</td>\n",
              "      <td>Coal</td>\n",
              "      <td>1021146.0</td>\n",
              "      <td>0.0</td>\n",
              "      <td>1021146.0</td>\n",
              "      <td>2936718.0</td>\n",
              "      <td>28046.0</td>\n",
              "      <td>11780.0</td>\n",
              "      <td>2976544.0</td>\n",
              "    </tr>\n",
              "    <tr>\n",
              "      <th>1</th>\n",
              "      <td>1990</td>\n",
              "      <td>AK</td>\n",
              "      <td>Hydroelectric Conventional</td>\n",
              "      <td>0.0</td>\n",
              "      <td>1949042.0</td>\n",
              "      <td>1949042.0</td>\n",
              "      <td>NaN</td>\n",
              "      <td>NaN</td>\n",
              "      <td>NaN</td>\n",
              "      <td>NaN</td>\n",
              "    </tr>\n",
              "    <tr>\n",
              "      <th>2</th>\n",
              "      <td>1990</td>\n",
              "      <td>AK</td>\n",
              "      <td>Natural Gas</td>\n",
              "      <td>6932522.0</td>\n",
              "      <td>0.0</td>\n",
              "      <td>6932522.0</td>\n",
              "      <td>4805316.0</td>\n",
              "      <td>22.0</td>\n",
              "      <td>11076.0</td>\n",
              "      <td>4816414.0</td>\n",
              "    </tr>\n",
              "    <tr>\n",
              "      <th>3</th>\n",
              "      <td>1990</td>\n",
              "      <td>AK</td>\n",
              "      <td>Petroleum</td>\n",
              "      <td>994232.0</td>\n",
              "      <td>0.0</td>\n",
              "      <td>994232.0</td>\n",
              "      <td>675584.0</td>\n",
              "      <td>7445.0</td>\n",
              "      <td>1808.0</td>\n",
              "      <td>684837.0</td>\n",
              "    </tr>\n",
              "    <tr>\n",
              "      <th>4</th>\n",
              "      <td>1990</td>\n",
              "      <td>AK</td>\n",
              "      <td>Wind</td>\n",
              "      <td>0.0</td>\n",
              "      <td>0.0</td>\n",
              "      <td>0.0</td>\n",
              "      <td>NaN</td>\n",
              "      <td>NaN</td>\n",
              "      <td>NaN</td>\n",
              "      <td>NaN</td>\n",
              "    </tr>\n",
              "  </tbody>\n",
              "</table>\n",
              "</div>"
            ],
            "text/plain": [
              "   year state               energy_source  ...  SO2(Tons)  NOx(Tons)  emissions\n",
              "0  1990    AK                        Coal  ...    28046.0    11780.0  2976544.0\n",
              "1  1990    AK  Hydroelectric Conventional  ...        NaN        NaN        NaN\n",
              "2  1990    AK                 Natural Gas  ...       22.0    11076.0  4816414.0\n",
              "3  1990    AK                   Petroleum  ...     7445.0     1808.0   684837.0\n",
              "4  1990    AK                        Wind  ...        NaN        NaN        NaN\n",
              "\n",
              "[5 rows x 10 columns]"
            ]
          },
          "metadata": {
            "tags": []
          },
          "execution_count": 17
        }
      ]
    },
    {
      "cell_type": "markdown",
      "metadata": {
        "id": "kAc85cLsFQ0a",
        "colab_type": "text"
      },
      "source": [
        "Above I choose \"outer\" to keep all the rows, because the rows with 0 emissions would be deleted, and they are important to keep"
      ]
    },
    {
      "cell_type": "code",
      "metadata": {
        "id": "pezDIK1qDmll",
        "colab_type": "code",
        "outputId": "b5fd7859-113a-44cf-98a6-3ce8479f01d2",
        "colab": {
          "base_uri": "https://localhost:8080/",
          "height": 217
        }
      },
      "source": [
        "# Check for null values, because the clean sources like wind or solar don't produce emissions:\n",
        "elec_emissions.isnull().sum()"
      ],
      "execution_count": 0,
      "outputs": [
        {
          "output_type": "execute_result",
          "data": {
            "text/plain": [
              "year                   0\n",
              "state                  0\n",
              "energy_source          0\n",
              "non_clean_source     301\n",
              "clean_source         301\n",
              "generation (MWH)     301\n",
              "CO2(Tons)           4696\n",
              "SO2(Tons)           4696\n",
              "NOx(Tons)           4696\n",
              "emissions           4696\n",
              "dtype: int64"
            ]
          },
          "metadata": {
            "tags": []
          },
          "execution_count": 18
        }
      ]
    },
    {
      "cell_type": "code",
      "metadata": {
        "id": "zbYx93P0yTwI",
        "colab_type": "code",
        "outputId": "a13d1cbe-b0f5-475b-d4f5-f4085dc19598",
        "colab": {
          "base_uri": "https://localhost:8080/",
          "height": 35
        }
      },
      "source": [
        "# Check the shape of our new dataset:\n",
        "elec_emissions.shape"
      ],
      "execution_count": 0,
      "outputs": [
        {
          "output_type": "execute_result",
          "data": {
            "text/plain": [
              "(12634, 10)"
            ]
          },
          "metadata": {
            "tags": []
          },
          "execution_count": 19
        }
      ]
    },
    {
      "cell_type": "code",
      "metadata": {
        "id": "C3McRzrPyYAP",
        "colab_type": "code",
        "colab": {}
      },
      "source": [
        "# Replace the NaN with zeros:\n",
        "elec_emissions = elec_emissions.fillna(0)"
      ],
      "execution_count": 0,
      "outputs": []
    },
    {
      "cell_type": "code",
      "metadata": {
        "id": "4Yiv67kLyrdw",
        "colab_type": "code",
        "outputId": "7fdf259e-ebfb-4d21-883e-6d45e6cfd93b",
        "colab": {
          "base_uri": "https://localhost:8080/",
          "height": 217
        }
      },
      "source": [
        "# Check if there are any more NaNs left:\n",
        "elec_emissions.isnull().sum()"
      ],
      "execution_count": 0,
      "outputs": [
        {
          "output_type": "execute_result",
          "data": {
            "text/plain": [
              "year                0\n",
              "state               0\n",
              "energy_source       0\n",
              "non_clean_source    0\n",
              "clean_source        0\n",
              "generation (MWH)    0\n",
              "CO2(Tons)           0\n",
              "SO2(Tons)           0\n",
              "NOx(Tons)           0\n",
              "emissions           0\n",
              "dtype: int64"
            ]
          },
          "metadata": {
            "tags": []
          },
          "execution_count": 21
        }
      ]
    },
    {
      "cell_type": "code",
      "metadata": {
        "id": "A8X-qxjQdocO",
        "colab_type": "code",
        "outputId": "58dab0c6-b886-4146-a7c4-acfc478816e2",
        "colab": {
          "base_uri": "https://localhost:8080/",
          "height": 198
        }
      },
      "source": [
        "# Check our dataset:\n",
        "elec_emissions.head()"
      ],
      "execution_count": 0,
      "outputs": [
        {
          "output_type": "execute_result",
          "data": {
            "text/html": [
              "<div>\n",
              "<style scoped>\n",
              "    .dataframe tbody tr th:only-of-type {\n",
              "        vertical-align: middle;\n",
              "    }\n",
              "\n",
              "    .dataframe tbody tr th {\n",
              "        vertical-align: top;\n",
              "    }\n",
              "\n",
              "    .dataframe thead th {\n",
              "        text-align: right;\n",
              "    }\n",
              "</style>\n",
              "<table border=\"1\" class=\"dataframe\">\n",
              "  <thead>\n",
              "    <tr style=\"text-align: right;\">\n",
              "      <th></th>\n",
              "      <th>year</th>\n",
              "      <th>state</th>\n",
              "      <th>energy_source</th>\n",
              "      <th>non_clean_source</th>\n",
              "      <th>clean_source</th>\n",
              "      <th>generation (MWH)</th>\n",
              "      <th>CO2(Tons)</th>\n",
              "      <th>SO2(Tons)</th>\n",
              "      <th>NOx(Tons)</th>\n",
              "      <th>emissions</th>\n",
              "    </tr>\n",
              "  </thead>\n",
              "  <tbody>\n",
              "    <tr>\n",
              "      <th>0</th>\n",
              "      <td>1990</td>\n",
              "      <td>AK</td>\n",
              "      <td>Coal</td>\n",
              "      <td>1021146.0</td>\n",
              "      <td>0.0</td>\n",
              "      <td>1021146.0</td>\n",
              "      <td>2936718.0</td>\n",
              "      <td>28046.0</td>\n",
              "      <td>11780.0</td>\n",
              "      <td>2976544.0</td>\n",
              "    </tr>\n",
              "    <tr>\n",
              "      <th>1</th>\n",
              "      <td>1990</td>\n",
              "      <td>AK</td>\n",
              "      <td>Hydroelectric Conventional</td>\n",
              "      <td>0.0</td>\n",
              "      <td>1949042.0</td>\n",
              "      <td>1949042.0</td>\n",
              "      <td>0.0</td>\n",
              "      <td>0.0</td>\n",
              "      <td>0.0</td>\n",
              "      <td>0.0</td>\n",
              "    </tr>\n",
              "    <tr>\n",
              "      <th>2</th>\n",
              "      <td>1990</td>\n",
              "      <td>AK</td>\n",
              "      <td>Natural Gas</td>\n",
              "      <td>6932522.0</td>\n",
              "      <td>0.0</td>\n",
              "      <td>6932522.0</td>\n",
              "      <td>4805316.0</td>\n",
              "      <td>22.0</td>\n",
              "      <td>11076.0</td>\n",
              "      <td>4816414.0</td>\n",
              "    </tr>\n",
              "    <tr>\n",
              "      <th>3</th>\n",
              "      <td>1990</td>\n",
              "      <td>AK</td>\n",
              "      <td>Petroleum</td>\n",
              "      <td>994232.0</td>\n",
              "      <td>0.0</td>\n",
              "      <td>994232.0</td>\n",
              "      <td>675584.0</td>\n",
              "      <td>7445.0</td>\n",
              "      <td>1808.0</td>\n",
              "      <td>684837.0</td>\n",
              "    </tr>\n",
              "    <tr>\n",
              "      <th>4</th>\n",
              "      <td>1990</td>\n",
              "      <td>AK</td>\n",
              "      <td>Wind</td>\n",
              "      <td>0.0</td>\n",
              "      <td>0.0</td>\n",
              "      <td>0.0</td>\n",
              "      <td>0.0</td>\n",
              "      <td>0.0</td>\n",
              "      <td>0.0</td>\n",
              "      <td>0.0</td>\n",
              "    </tr>\n",
              "  </tbody>\n",
              "</table>\n",
              "</div>"
            ],
            "text/plain": [
              "   year state               energy_source  ...  SO2(Tons)  NOx(Tons)  emissions\n",
              "0  1990    AK                        Coal  ...    28046.0    11780.0  2976544.0\n",
              "1  1990    AK  Hydroelectric Conventional  ...        0.0        0.0        0.0\n",
              "2  1990    AK                 Natural Gas  ...       22.0    11076.0  4816414.0\n",
              "3  1990    AK                   Petroleum  ...     7445.0     1808.0   684837.0\n",
              "4  1990    AK                        Wind  ...        0.0        0.0        0.0\n",
              "\n",
              "[5 rows x 10 columns]"
            ]
          },
          "metadata": {
            "tags": []
          },
          "execution_count": 22
        }
      ]
    },
    {
      "cell_type": "code",
      "metadata": {
        "id": "95MgOIJ1-Nk0",
        "colab_type": "code",
        "outputId": "c86bc13c-d33a-4dd5-9102-02b2d9b90c48",
        "colab": {
          "base_uri": "https://localhost:8080/",
          "height": 637
        }
      },
      "source": [
        "#Visualization 1:\n",
        "\n",
        "labels = elec_emissions['year']\n",
        "non_clean = elec_emissions['non_clean_source']/10**6\n",
        "clean = elec_emissions['clean_source']/10**6\n",
        "\n",
        "x = elec_emissions['year']  # the label locations\n",
        "width = 0.40  # the width of the bars\n",
        "\n",
        "#Plot the X and Ys:\n",
        "fig, ax = plt.subplots(figsize=(16,9))\n",
        "ax.bar(x-width/2, non_clean, width, label='Non Clean Source',color='#a16172')\n",
        "ax.bar(x+width/2, clean, width, label='Clean Source',color='#9ee9a0')\n",
        "\n",
        "# Add some text for labels, and custom x-axis and y-axis tick labels, etc.\n",
        "ax.set_ylabel('Electricty (Megawatthours)')\n",
        "ax.set_yticks(range(0,600,100))\n",
        "ax.set_yticklabels([0,100,200,300,400,'500M'])\n",
        "ax.set_xticks(x)\n",
        "ax.set_xticklabels(labels, rotation='vertical')\n",
        "ax.set_xlabel('Years')\n",
        "\n",
        "# Sum the emissions by years:\n",
        "derp = elec_emissions.groupby('year')['emissions'].sum().to_dict()\n",
        "derp_x = [i for i in derp.keys()]\n",
        "derp_y = [i/10**7 for i in derp.values()]\n",
        "\n",
        "# Add a scond y-axis, plot the line, and add labels:\n",
        "ax2 = ax.twinx()\n",
        "ax2.plot(derp_x, derp_y, linestyle='-', label='Emissions',color='#365a80')\n",
        "ax2.set_yticks(range(0,700,100))\n",
        "ax2.set_yticklabels([0,100,200,300,400,500,'600 (10M)'])\n",
        "ax2.set_ylabel('Emissions (Metric Tons)')\n",
        "\n",
        "# Add title:\n",
        "ax.set_title('Electricity Generation Vs Emissions', fontsize= 18, fontweight='bold',color='#1a2f43')\n",
        "ax.legend()\n",
        "ax2.legend(loc='upper right')\n",
        "ax.axhline(y=0, color='#414141', linewidth=1.5, alpha=.5)\n",
        "\n",
        "\n",
        "plt.show()"
      ],
      "execution_count": 0,
      "outputs": [
        {
          "output_type": "display_data",
          "data": {
            "image/png": "[encoded data removed]",
            "text/plain": [
              "<Figure size 1152x648 with 2 Axes>"
            ]
          },
          "metadata": {
            "tags": []
          }
        }
      ]
    },
    {
      "cell_type": "code",
      "metadata": {
        "id": "OkDjtAwZ3422",
        "colab_type": "code",
        "outputId": "c02f94cc-8c65-4b05-dce4-78f88746bc82",
        "colab": {
          "base_uri": "https://localhost:8080/",
          "height": 198
        }
      },
      "source": [
        "# Sum the column emission by states:\n",
        "derp2 = elec_emissions.groupby('state')['emissions'].sum().to_dict()\n",
        "derp_x2 = [i for i in derp2.keys()]\n",
        "derp_y2 = [i/10**7 for i in derp2.values()]\n",
        "state = pd.Series(derp_x2)\n",
        "emiss = pd.Series(derp_y2)\n",
        "\n",
        "#Make a new datafeame to use for the graph:\n",
        "df = pd.concat([state, emiss], axis=1)\n",
        "df = df.rename(columns={0:'state', 1:'emissions'})\n",
        "df.tail()"
      ],
      "execution_count": 0,
      "outputs": [
        {
          "output_type": "execute_result",
          "data": {
            "text/html": [
              "<div>\n",
              "<style scoped>\n",
              "    .dataframe tbody tr th:only-of-type {\n",
              "        vertical-align: middle;\n",
              "    }\n",
              "\n",
              "    .dataframe tbody tr th {\n",
              "        vertical-align: top;\n",
              "    }\n",
              "\n",
              "    .dataframe thead th {\n",
              "        text-align: right;\n",
              "    }\n",
              "</style>\n",
              "<table border=\"1\" class=\"dataframe\">\n",
              "  <thead>\n",
              "    <tr style=\"text-align: right;\">\n",
              "      <th></th>\n",
              "      <th>state</th>\n",
              "      <th>emissions</th>\n",
              "    </tr>\n",
              "  </thead>\n",
              "  <tbody>\n",
              "    <tr>\n",
              "      <th>47</th>\n",
              "      <td>VT</td>\n",
              "      <td>0.155326</td>\n",
              "    </tr>\n",
              "    <tr>\n",
              "      <th>48</th>\n",
              "      <td>WA</td>\n",
              "      <td>69.850921</td>\n",
              "    </tr>\n",
              "    <tr>\n",
              "      <th>49</th>\n",
              "      <td>WI</td>\n",
              "      <td>267.461451</td>\n",
              "    </tr>\n",
              "    <tr>\n",
              "      <th>50</th>\n",
              "      <td>WV</td>\n",
              "      <td>444.233470</td>\n",
              "    </tr>\n",
              "    <tr>\n",
              "      <th>51</th>\n",
              "      <td>WY</td>\n",
              "      <td>271.602799</td>\n",
              "    </tr>\n",
              "  </tbody>\n",
              "</table>\n",
              "</div>"
            ],
            "text/plain": [
              "   state   emissions\n",
              "47    VT    0.155326\n",
              "48    WA   69.850921\n",
              "49    WI  267.461451\n",
              "50    WV  444.233470\n",
              "51    WY  271.602799"
            ]
          },
          "metadata": {
            "tags": []
          },
          "execution_count": 66
        }
      ]
    },
    {
      "cell_type": "code",
      "metadata": {
        "id": "JZWZeVzWpSUD",
        "colab_type": "code",
        "outputId": "aaac25b1-f5f4-47f6-ad6b-c0aeee283a4f",
        "colab": {
          "base_uri": "https://localhost:8080/",
          "height": 442
        }
      },
      "source": [
        "#Visualization 2:\n",
        "\n",
        "plt.style.use('fivethirtyeight')\n",
        "\n",
        "# Make figure, X axis and Y axis:\n",
        "fig, ax = plt.subplots(figsize=(12,6))\n",
        "fig.set_facecolor('#eff6f0')\n",
        "ax.set_facecolor('#eff6f0')\n",
        "df.plot(kind='bar', y= 'emissions', x= 'state',color='#1d4a1f' ,ax=ax)\n",
        "\n",
        "#Add labels for X and Y axis:\n",
        "ax.set_xlabel('States', fontsize=12, fontweight='bold')\n",
        "ax.set_ylabel('Emissions', fontsize=12, fontweight='bold')\n",
        "\n",
        "# Add the title:\n",
        "ax.set_title(\"Total Emissions of CO2, SO2 and NOx (Tons)\", fontsize=14, fontweight='bold')\n",
        "\n",
        "ax.legend().set_visible(False)\n",
        "ax.spines['left'].set_visible(False)\n",
        "ax.spines['right'].set_visible(False)\n",
        "ax.spines['top'].set_visible(False)\n",
        "ax.spines['bottom'].set_visible(False)\n",
        "\n",
        "\n",
        "plt.show()"
      ],
      "execution_count": 0,
      "outputs": [
        {
          "output_type": "display_data",
          "data": {
            "image/png": "[encoded data removed]",
            "text/plain": [
              "<Figure size 864x432 with 1 Axes>"
            ]
          },
          "metadata": {
            "tags": []
          }
        }
      ]
    },
    {
      "cell_type": "code",
      "metadata": {
        "id": "3TkF0KWtGWo2",
        "colab_type": "code",
        "outputId": "df9c3ac4-6860-4381-b461-3529e595398b",
        "colab": {
          "base_uri": "https://localhost:8080/",
          "height": 198
        }
      },
      "source": [
        "# Assign Texas dataset for Texas state.\n",
        "texas = elec_emissions[elec_emissions['state']=='TX']\n",
        "texas.head()"
      ],
      "execution_count": 0,
      "outputs": [
        {
          "output_type": "execute_result",
          "data": {
            "text/html": [
              "<div>\n",
              "<style scoped>\n",
              "    .dataframe tbody tr th:only-of-type {\n",
              "        vertical-align: middle;\n",
              "    }\n",
              "\n",
              "    .dataframe tbody tr th {\n",
              "        vertical-align: top;\n",
              "    }\n",
              "\n",
              "    .dataframe thead th {\n",
              "        text-align: right;\n",
              "    }\n",
              "</style>\n",
              "<table border=\"1\" class=\"dataframe\">\n",
              "  <thead>\n",
              "    <tr style=\"text-align: right;\">\n",
              "      <th></th>\n",
              "      <th>year</th>\n",
              "      <th>state</th>\n",
              "      <th>energy_source</th>\n",
              "      <th>non_clean_source</th>\n",
              "      <th>clean_source</th>\n",
              "      <th>generation (MWH)</th>\n",
              "      <th>CO2(Tons)</th>\n",
              "      <th>SO2(Tons)</th>\n",
              "      <th>NOx(Tons)</th>\n",
              "      <th>emissions</th>\n",
              "    </tr>\n",
              "  </thead>\n",
              "  <tbody>\n",
              "    <tr>\n",
              "      <th>304</th>\n",
              "      <td>1990</td>\n",
              "      <td>TX</td>\n",
              "      <td>Coal</td>\n",
              "      <td>241842792.0</td>\n",
              "      <td>0.0</td>\n",
              "      <td>241842792.0</td>\n",
              "      <td>253137640.0</td>\n",
              "      <td>968965.0</td>\n",
              "      <td>942927.0</td>\n",
              "      <td>255049532.0</td>\n",
              "    </tr>\n",
              "    <tr>\n",
              "      <th>305</th>\n",
              "      <td>1990</td>\n",
              "      <td>TX</td>\n",
              "      <td>Hydroelectric Conventional</td>\n",
              "      <td>0.0</td>\n",
              "      <td>3587250.0</td>\n",
              "      <td>3587250.0</td>\n",
              "      <td>0.0</td>\n",
              "      <td>0.0</td>\n",
              "      <td>0.0</td>\n",
              "      <td>0.0</td>\n",
              "    </tr>\n",
              "    <tr>\n",
              "      <th>306</th>\n",
              "      <td>1990</td>\n",
              "      <td>TX</td>\n",
              "      <td>Natural Gas</td>\n",
              "      <td>272468650.0</td>\n",
              "      <td>0.0</td>\n",
              "      <td>272468650.0</td>\n",
              "      <td>167774260.0</td>\n",
              "      <td>811.0</td>\n",
              "      <td>361139.0</td>\n",
              "      <td>168136210.0</td>\n",
              "    </tr>\n",
              "    <tr>\n",
              "      <th>307</th>\n",
              "      <td>1990</td>\n",
              "      <td>TX</td>\n",
              "      <td>Nuclear</td>\n",
              "      <td>0.0</td>\n",
              "      <td>31718516.0</td>\n",
              "      <td>31718516.0</td>\n",
              "      <td>0.0</td>\n",
              "      <td>0.0</td>\n",
              "      <td>0.0</td>\n",
              "      <td>0.0</td>\n",
              "    </tr>\n",
              "    <tr>\n",
              "      <th>308</th>\n",
              "      <td>1990</td>\n",
              "      <td>TX</td>\n",
              "      <td>Other</td>\n",
              "      <td>977462.0</td>\n",
              "      <td>0.0</td>\n",
              "      <td>977462.0</td>\n",
              "      <td>9562.0</td>\n",
              "      <td>19387.0</td>\n",
              "      <td>12658.0</td>\n",
              "      <td>41607.0</td>\n",
              "    </tr>\n",
              "  </tbody>\n",
              "</table>\n",
              "</div>"
            ],
            "text/plain": [
              "     year state               energy_source  ...  SO2(Tons)  NOx(Tons)    emissions\n",
              "304  1990    TX                        Coal  ...   968965.0   942927.0  255049532.0\n",
              "305  1990    TX  Hydroelectric Conventional  ...        0.0        0.0          0.0\n",
              "306  1990    TX                 Natural Gas  ...      811.0   361139.0  168136210.0\n",
              "307  1990    TX                     Nuclear  ...        0.0        0.0          0.0\n",
              "308  1990    TX                       Other  ...    19387.0    12658.0      41607.0\n",
              "\n",
              "[5 rows x 10 columns]"
            ]
          },
          "metadata": {
            "tags": []
          },
          "execution_count": 26
        }
      ]
    },
    {
      "cell_type": "markdown",
      "metadata": {
        "id": "yBdUEQFUGT3P",
        "colab_type": "text"
      },
      "source": [
        "#2- Visualisations:"
      ]
    },
    {
      "cell_type": "code",
      "metadata": {
        "id": "-r8lO0ZG3FEj",
        "colab_type": "code",
        "outputId": "d812f39c-da76-4b8e-a2d8-06f8926dbcbc",
        "colab": {
          "base_uri": "https://localhost:8080/",
          "height": 462
        }
      },
      "source": [
        "#Visualization 3:\n",
        "\n",
        "labels_tx = texas['year']\n",
        "non_clean_tx = texas['non_clean_source']/10**6\n",
        "clean_tx = texas['clean_source']/10**6\n",
        "\n",
        "x = texas['year']  # the label locations\n",
        "width = 0.40  # the width of the bars\n",
        "\n",
        "#Plot the X and Ys:\n",
        "fig, ax = plt.subplots(figsize=(12,6))\n",
        "ax.bar(x-width/2, non_clean_tx, width, label='Non Clean Source',color='#908fcc')\n",
        "ax.bar(x+width/2, clean_tx, width, label='Clean Source',color='#c7da91')\n",
        "\n",
        "# Add some text for labels, and custom x-axis and y-axis tick labels, etc.\n",
        "ax.set_ylabel('Electricty (Megawatthours)')\n",
        "ax.set_yticks(range(0,600,100))\n",
        "ax.set_yticklabels([0,100,200,300,400,'500M'])\n",
        "ax.set_xticks(x)\n",
        "ax.set_xticklabels(labels_tx, rotation='vertical')\n",
        "ax.set_xlabel('Years')\n",
        "\n",
        "# Sum the emissions by years:\n",
        "derp_tx = texas.groupby('year')['emissions'].sum().to_dict()\n",
        "derp_x3 = [i for i in derp_tx.keys()]\n",
        "derp_y3 = [i/10**6 for i in derp_tx.values()]\n",
        "\n",
        "# Add a scond y-axis, plot the line, and add labels:\n",
        "ax2 = ax.twinx()\n",
        "ax2.plot(derp_x3, derp_y3, linestyle='-', label='Emissions',color='#414c20')\n",
        "ax2.set_yticks(range(0,700,100))\n",
        "ax2.set_yticklabels([0,100,200,300,400,500,'600M'])\n",
        "ax2.set_ylabel('Emissions (Metric Tons)')\n",
        "\n",
        "# Add title:\n",
        "ax.set_title('Electricity Generation Vs Emissions In Texas', fontsize= 18, fontweight='bold',color='#1a2f43')\n",
        "ax.legend()\n",
        "ax2.legend(loc='upper right')\n",
        "ax.axhline(y=0, color='#414141', linewidth=1.5, alpha=.5)\n",
        "\n",
        "\n",
        "plt.show()"
      ],
      "execution_count": 0,
      "outputs": [
        {
          "output_type": "display_data",
          "data": {
            "image/png": "[encoded data removed]",
            "text/plain": [
              "<Figure size 864x432 with 2 Axes>"
            ]
          },
          "metadata": {
            "tags": []
          }
        }
      ]
    },
    {
      "cell_type": "code",
      "metadata": {
        "id": "Eho-Uz5H7nbq",
        "colab_type": "code",
        "outputId": "8488ef9f-c70a-4903-ff07-925d4cff5051",
        "colab": {
          "base_uri": "https://localhost:8080/",
          "height": 198
        }
      },
      "source": [
        "# Make a dataset for Texas for the year 2018, and check all the sources used for electricity production:\n",
        "tx_18 = texas[texas['year']==2018]\n",
        "tx_18 = tx_18.drop(['non_clean_source', 'clean_source','CO2(Tons)', 'SO2(Tons)', 'NOx(Tons)', 'emissions'], axis=1)\n",
        "tx_18['generation (MWH)'] = tx_18['generation (MWH)']/10**6\n",
        "tx_18.head()"
      ],
      "execution_count": 0,
      "outputs": [
        {
          "output_type": "execute_result",
          "data": {
            "text/html": [
              "<div>\n",
              "<style scoped>\n",
              "    .dataframe tbody tr th:only-of-type {\n",
              "        vertical-align: middle;\n",
              "    }\n",
              "\n",
              "    .dataframe tbody tr th {\n",
              "        vertical-align: top;\n",
              "    }\n",
              "\n",
              "    .dataframe thead th {\n",
              "        text-align: right;\n",
              "    }\n",
              "</style>\n",
              "<table border=\"1\" class=\"dataframe\">\n",
              "  <thead>\n",
              "    <tr style=\"text-align: right;\">\n",
              "      <th></th>\n",
              "      <th>year</th>\n",
              "      <th>state</th>\n",
              "      <th>energy_source</th>\n",
              "      <th>generation (MWH)</th>\n",
              "    </tr>\n",
              "  </thead>\n",
              "  <tbody>\n",
              "    <tr>\n",
              "      <th>12257</th>\n",
              "      <td>2018</td>\n",
              "      <td>TX</td>\n",
              "      <td>Coal</td>\n",
              "      <td>223.445285</td>\n",
              "    </tr>\n",
              "    <tr>\n",
              "      <th>12258</th>\n",
              "      <td>2018</td>\n",
              "      <td>TX</td>\n",
              "      <td>Hydroelectric Conventional</td>\n",
              "      <td>2.252756</td>\n",
              "    </tr>\n",
              "    <tr>\n",
              "      <th>12259</th>\n",
              "      <td>2018</td>\n",
              "      <td>TX</td>\n",
              "      <td>Natural Gas</td>\n",
              "      <td>479.426169</td>\n",
              "    </tr>\n",
              "    <tr>\n",
              "      <th>12260</th>\n",
              "      <td>2018</td>\n",
              "      <td>TX</td>\n",
              "      <td>Nuclear</td>\n",
              "      <td>82.371478</td>\n",
              "    </tr>\n",
              "    <tr>\n",
              "      <th>12261</th>\n",
              "      <td>2018</td>\n",
              "      <td>TX</td>\n",
              "      <td>Other</td>\n",
              "      <td>0.905258</td>\n",
              "    </tr>\n",
              "  </tbody>\n",
              "</table>\n",
              "</div>"
            ],
            "text/plain": [
              "       year state               energy_source  generation (MWH)\n",
              "12257  2018    TX                        Coal        223.445285\n",
              "12258  2018    TX  Hydroelectric Conventional          2.252756\n",
              "12259  2018    TX                 Natural Gas        479.426169\n",
              "12260  2018    TX                     Nuclear         82.371478\n",
              "12261  2018    TX                       Other          0.905258"
            ]
          },
          "metadata": {
            "tags": []
          },
          "execution_count": 28
        }
      ]
    },
    {
      "cell_type": "code",
      "metadata": {
        "id": "PV3KdWuhGhIG",
        "colab_type": "code",
        "outputId": "2d2f367c-b77e-4111-d284-a47a3912a06d",
        "colab": {
          "base_uri": "https://localhost:8080/",
          "height": 316
        }
      },
      "source": [
        "#Visualization 4:\n",
        "\n",
        "plt.style.use('fivethirtyeight')\n",
        "\n",
        "# Make figure, X axis and Y axis:\n",
        "fig, ax = plt.subplots(figsize=(10,4))\n",
        "fig.set_facecolor('#f8eedb')\n",
        "ax.set_facecolor('#f8eedb')\n",
        "tx_18.plot(kind='barh', y= 'generation (MWH)', x= 'energy_source',color='#e2ac49' ,ax=ax)\n",
        "\n",
        "#Add labels for X and Y axis:\n",
        "ax.set_xlabel('Electricity Generated', fontsize=12, fontweight='bold')\n",
        "ax.set_xticks(range(0,600,100))\n",
        "ax.set_xticklabels([0,100,200,300,400,'500M'])\n",
        "ax.set_ylabel('Energy Sources', fontsize=12, fontweight='bold')\n",
        "\n",
        "# Add the title:\n",
        "ax.set_title(\"Sources Used To Generate Electricity In Texas 2018\", fontsize=14, fontweight='bold')\n",
        "\n",
        "ax.legend().set_visible(False)\n",
        "ax.spines['left'].set_visible(False)\n",
        "ax.spines['right'].set_visible(False)\n",
        "ax.spines['top'].set_visible(False)\n",
        "ax.spines['bottom'].set_visible(False)\n",
        "\n",
        "\n",
        "plt.show()"
      ],
      "execution_count": 0,
      "outputs": [
        {
          "output_type": "display_data",
          "data": {
            "image/png": "[encoded data removed]",
            "text/plain": [
              "<Figure size 720x288 with 1 Axes>"
            ]
          },
          "metadata": {
            "tags": []
          }
        }
      ]
    },
    {
      "cell_type": "code",
      "metadata": {
        "id": "2_XSJbnIG7ML",
        "colab_type": "code",
        "outputId": "36e46add-37aa-4790-91e3-581ae0232e38",
        "colab": {
          "base_uri": "https://localhost:8080/",
          "height": 198
        }
      },
      "source": [
        "#Since Texas is secound polulated state, let compare it with the first populated state which is California:\n",
        "\n",
        "cali = elec_emissions[elec_emissions['state']=='CA']\n",
        "cali.head()"
      ],
      "execution_count": 0,
      "outputs": [
        {
          "output_type": "execute_result",
          "data": {
            "text/html": [
              "<div>\n",
              "<style scoped>\n",
              "    .dataframe tbody tr th:only-of-type {\n",
              "        vertical-align: middle;\n",
              "    }\n",
              "\n",
              "    .dataframe tbody tr th {\n",
              "        vertical-align: top;\n",
              "    }\n",
              "\n",
              "    .dataframe thead th {\n",
              "        text-align: right;\n",
              "    }\n",
              "</style>\n",
              "<table border=\"1\" class=\"dataframe\">\n",
              "  <thead>\n",
              "    <tr style=\"text-align: right;\">\n",
              "      <th></th>\n",
              "      <th>year</th>\n",
              "      <th>state</th>\n",
              "      <th>energy_source</th>\n",
              "      <th>non_clean_source</th>\n",
              "      <th>clean_source</th>\n",
              "      <th>generation (MWH)</th>\n",
              "      <th>CO2(Tons)</th>\n",
              "      <th>SO2(Tons)</th>\n",
              "      <th>NOx(Tons)</th>\n",
              "      <th>emissions</th>\n",
              "    </tr>\n",
              "  </thead>\n",
              "  <tbody>\n",
              "    <tr>\n",
              "      <th>29</th>\n",
              "      <td>1990</td>\n",
              "      <td>CA</td>\n",
              "      <td>Coal</td>\n",
              "      <td>5275354.0</td>\n",
              "      <td>0.0</td>\n",
              "      <td>5275354.0</td>\n",
              "      <td>7709620.0</td>\n",
              "      <td>63726.0</td>\n",
              "      <td>32146.0</td>\n",
              "      <td>7805492.0</td>\n",
              "    </tr>\n",
              "    <tr>\n",
              "      <th>30</th>\n",
              "      <td>1990</td>\n",
              "      <td>CA</td>\n",
              "      <td>Geothermal</td>\n",
              "      <td>29042508.0</td>\n",
              "      <td>0.0</td>\n",
              "      <td>29042508.0</td>\n",
              "      <td>721338.0</td>\n",
              "      <td>0.0</td>\n",
              "      <td>0.0</td>\n",
              "      <td>721338.0</td>\n",
              "    </tr>\n",
              "    <tr>\n",
              "      <th>31</th>\n",
              "      <td>1990</td>\n",
              "      <td>CA</td>\n",
              "      <td>Hydroelectric Conventional</td>\n",
              "      <td>0.0</td>\n",
              "      <td>47585134.0</td>\n",
              "      <td>47585134.0</td>\n",
              "      <td>0.0</td>\n",
              "      <td>0.0</td>\n",
              "      <td>0.0</td>\n",
              "      <td>0.0</td>\n",
              "    </tr>\n",
              "    <tr>\n",
              "      <th>32</th>\n",
              "      <td>1990</td>\n",
              "      <td>CA</td>\n",
              "      <td>Natural Gas</td>\n",
              "      <td>148336616.0</td>\n",
              "      <td>0.0</td>\n",
              "      <td>148336616.0</td>\n",
              "      <td>85786660.0</td>\n",
              "      <td>412.0</td>\n",
              "      <td>182489.0</td>\n",
              "      <td>85969561.0</td>\n",
              "    </tr>\n",
              "    <tr>\n",
              "      <th>33</th>\n",
              "      <td>1990</td>\n",
              "      <td>CA</td>\n",
              "      <td>Nuclear</td>\n",
              "      <td>0.0</td>\n",
              "      <td>65385614.0</td>\n",
              "      <td>65385614.0</td>\n",
              "      <td>0.0</td>\n",
              "      <td>0.0</td>\n",
              "      <td>0.0</td>\n",
              "      <td>0.0</td>\n",
              "    </tr>\n",
              "  </tbody>\n",
              "</table>\n",
              "</div>"
            ],
            "text/plain": [
              "    year state               energy_source  ...  SO2(Tons)  NOx(Tons)   emissions\n",
              "29  1990    CA                        Coal  ...    63726.0    32146.0   7805492.0\n",
              "30  1990    CA                  Geothermal  ...        0.0        0.0    721338.0\n",
              "31  1990    CA  Hydroelectric Conventional  ...        0.0        0.0         0.0\n",
              "32  1990    CA                 Natural Gas  ...      412.0   182489.0  85969561.0\n",
              "33  1990    CA                     Nuclear  ...        0.0        0.0         0.0\n",
              "\n",
              "[5 rows x 10 columns]"
            ]
          },
          "metadata": {
            "tags": []
          },
          "execution_count": 30
        }
      ]
    },
    {
      "cell_type": "code",
      "metadata": {
        "id": "RMqr32oaav4e",
        "colab_type": "code",
        "outputId": "92e57b0a-12b6-4583-a855-3a373dad1141",
        "colab": {
          "base_uri": "https://localhost:8080/",
          "height": 462
        }
      },
      "source": [
        "#Visualization 5:\n",
        "\n",
        "labels_ca = cali['year']\n",
        "non_clean_ca = cali['non_clean_source']/10**6\n",
        "clean_ca = cali['clean_source']/10**6\n",
        "\n",
        "x = cali['year']  # the label locations\n",
        "width = 0.40  # the width of the bars\n",
        "\n",
        "#Plot the X and Ys:\n",
        "fig, ax = plt.subplots(figsize=(12,6))\n",
        "ax.bar(x-width/2, non_clean_ca, width, label='Non Clean Source',color='#e2737e')\n",
        "ax.bar(x+width/2, clean_ca, width, label='Clean Source',color='#c7da91')\n",
        "\n",
        "# Add some text for labels, and custom x-axis and y-axis tick labels, etc.\n",
        "ax.set_ylabel('Electricty (Megawatthours)')\n",
        "ax.set_yticks(range(0,400,100))\n",
        "ax.set_yticklabels([0,100,200,'300M'])\n",
        "ax.set_xticks(x)\n",
        "ax.set_xticklabels(labels_ca, rotation='vertical')\n",
        "ax.set_xlabel('Years')\n",
        "\n",
        "# Sum the emissions by years:\n",
        "derp_ca = cali.groupby('year')['emissions'].sum().to_dict()\n",
        "derp_x4 = [i for i in derp_ca.keys()]\n",
        "derp_y4 = [i/10**6 for i in derp_ca.values()]\n",
        "\n",
        "# Add a scond y-axis, plot the line, and add labels:\n",
        "ax2 = ax.twinx()\n",
        "ax2.plot(derp_x4, derp_y4, linestyle='-', label='Emissions',color='#8d333c')\n",
        "ax2.set_yticks(range(0,500,100))\n",
        "ax2.set_yticklabels([0,100,200,300,'400M'])\n",
        "ax2.set_ylabel('Emissions (Metric Tons)')\n",
        "\n",
        "# Add title:\n",
        "ax.set_title('Electricity Generation Vs Emissions In California', fontsize= 18, fontweight='bold',color='#1a2f43')\n",
        "ax.legend()\n",
        "ax2.legend(loc='upper left')\n",
        "ax.axhline(y=0, color='#414141', linewidth=1.5, alpha=.5)\n",
        "\n",
        "\n",
        "plt.show()"
      ],
      "execution_count": 0,
      "outputs": [
        {
          "output_type": "display_data",
          "data": {
            "image/png": "[encoded data removed]",
            "text/plain": [
              "<Figure size 864x432 with 2 Axes>"
            ]
          },
          "metadata": {
            "tags": []
          }
        }
      ]
    },
    {
      "cell_type": "code",
      "metadata": {
        "id": "Q2uibXdrc0fN",
        "colab_type": "code",
        "outputId": "51521d0f-6a28-4875-daf0-a1e7e8941a6a",
        "colab": {
          "base_uri": "https://localhost:8080/",
          "height": 198
        }
      },
      "source": [
        "#Check all the sources used to generate electricity in California:\n",
        "ca_18 = cali[cali['year']==2018]\n",
        "ca_18 = ca_18.drop(['non_clean_source', 'clean_source','CO2(Tons)', 'SO2(Tons)', 'NOx(Tons)', 'emissions'], axis=1)\n",
        "ca_18['generation (MWH)'] = ca_18['generation (MWH)']/10**6\n",
        "ca_18.head()"
      ],
      "execution_count": 0,
      "outputs": [
        {
          "output_type": "execute_result",
          "data": {
            "text/html": [
              "<div>\n",
              "<style scoped>\n",
              "    .dataframe tbody tr th:only-of-type {\n",
              "        vertical-align: middle;\n",
              "    }\n",
              "\n",
              "    .dataframe tbody tr th {\n",
              "        vertical-align: top;\n",
              "    }\n",
              "\n",
              "    .dataframe thead th {\n",
              "        text-align: right;\n",
              "    }\n",
              "</style>\n",
              "<table border=\"1\" class=\"dataframe\">\n",
              "  <thead>\n",
              "    <tr style=\"text-align: right;\">\n",
              "      <th></th>\n",
              "      <th>year</th>\n",
              "      <th>state</th>\n",
              "      <th>energy_source</th>\n",
              "      <th>generation (MWH)</th>\n",
              "    </tr>\n",
              "  </thead>\n",
              "  <tbody>\n",
              "    <tr>\n",
              "      <th>11875</th>\n",
              "      <td>2018</td>\n",
              "      <td>CA</td>\n",
              "      <td>Coal</td>\n",
              "      <td>0.562656</td>\n",
              "    </tr>\n",
              "    <tr>\n",
              "      <th>11876</th>\n",
              "      <td>2018</td>\n",
              "      <td>CA</td>\n",
              "      <td>Geothermal</td>\n",
              "      <td>23.353682</td>\n",
              "    </tr>\n",
              "    <tr>\n",
              "      <th>11877</th>\n",
              "      <td>2018</td>\n",
              "      <td>CA</td>\n",
              "      <td>Hydroelectric Conventional</td>\n",
              "      <td>52.661333</td>\n",
              "    </tr>\n",
              "    <tr>\n",
              "      <th>11878</th>\n",
              "      <td>2018</td>\n",
              "      <td>CA</td>\n",
              "      <td>Natural Gas</td>\n",
              "      <td>179.208948</td>\n",
              "    </tr>\n",
              "    <tr>\n",
              "      <th>11879</th>\n",
              "      <td>2018</td>\n",
              "      <td>CA</td>\n",
              "      <td>Nuclear</td>\n",
              "      <td>36.427038</td>\n",
              "    </tr>\n",
              "  </tbody>\n",
              "</table>\n",
              "</div>"
            ],
            "text/plain": [
              "       year state               energy_source  generation (MWH)\n",
              "11875  2018    CA                        Coal          0.562656\n",
              "11876  2018    CA                  Geothermal         23.353682\n",
              "11877  2018    CA  Hydroelectric Conventional         52.661333\n",
              "11878  2018    CA                 Natural Gas        179.208948\n",
              "11879  2018    CA                     Nuclear         36.427038"
            ]
          },
          "metadata": {
            "tags": []
          },
          "execution_count": 32
        }
      ]
    },
    {
      "cell_type": "code",
      "metadata": {
        "id": "5EdK1FPCdHY8",
        "colab_type": "code",
        "outputId": "d3730ade-e57c-4dc5-989d-e029b9bc5d74",
        "colab": {
          "base_uri": "https://localhost:8080/",
          "height": 316
        }
      },
      "source": [
        "#Visualization 6:\n",
        "\n",
        "plt.style.use('fivethirtyeight')\n",
        "\n",
        "# Make figure, X axis and Y axis:\n",
        "fig, ax = plt.subplots(figsize=(10,4))\n",
        "fig.set_facecolor('#e4f5fc')\n",
        "ax.set_facecolor('#e4f5fc')\n",
        "ca_18.plot(kind='barh', y= 'generation (MWH)', x= 'energy_source',color='#e2ac49' ,ax=ax)\n",
        "\n",
        "#Add labels for X and Y axis:\n",
        "ax.set_xlabel('Electricity Generated', fontsize=12, fontweight='bold')\n",
        "ax.set_xticks(range(0,600,100))\n",
        "ax.set_xticklabels([0,100,200,300,400,'500M'])\n",
        "ax.set_ylabel('Energy Sources', fontsize=12, fontweight='bold')\n",
        "\n",
        "# Add the title:\n",
        "ax.set_title(\"Sources Used To Generate Electricity In California 2018\", fontsize=14, fontweight='bold')\n",
        "\n",
        "ax.legend().set_visible(False)\n",
        "ax.spines['left'].set_visible(False)\n",
        "ax.spines['right'].set_visible(False)\n",
        "ax.spines['top'].set_visible(False)\n",
        "ax.spines['bottom'].set_visible(False)\n",
        "\n",
        "\n",
        "plt.show()"
      ],
      "execution_count": 0,
      "outputs": [
        {
          "output_type": "display_data",
          "data": {
            "image/png": "[encoded data removed]",
            "text/plain": [
              "<Figure size 720x288 with 1 Axes>"
            ]
          },
          "metadata": {
            "tags": []
          }
        }
      ]
    },
    {
      "cell_type": "code",
      "metadata": {
        "id": "o_E4wjFpxl3v",
        "colab_type": "code",
        "colab": {}
      },
      "source": [
        "texas_em = texas.drop(['energy_source', 'non_clean_source', 'clean_source', 'generation (MWH)', 'CO2(Tons)', 'SO2(Tons)', 'NOx(Tons)'], axis=1)\n",
        "cali_em = cali.drop(['energy_source', 'non_clean_source', 'clean_source', 'generation (MWH)', 'CO2(Tons)', 'SO2(Tons)', 'NOx(Tons)'], axis=1)\n",
        "texas_em = texas_em.groupby([\"year\", \"state\"], as_index=False)[\"emissions\"].sum()\n",
        "cali_em = cali_em.groupby([\"year\", \"state\"], as_index=False)[\"emissions\"].sum()"
      ],
      "execution_count": 0,
      "outputs": []
    },
    {
      "cell_type": "code",
      "metadata": {
        "id": "9s6Uf_mwvlj_",
        "colab_type": "code",
        "outputId": "f7b2d3f3-6722-4c0d-9454-01e5802fc990",
        "colab": {
          "base_uri": "https://localhost:8080/",
          "height": 459
        }
      },
      "source": [
        "#Visualization:\n",
        "\n",
        "labels_ = texas_em['year']\n",
        "y1 = texas_em['emissions']/10**6\n",
        "y2 = cali_em['emissions']/10**6\n",
        "x = texas_em['year']  # the label locations\n",
        "\n",
        "fig, ax = plt.subplots(figsize=(10,6))\n",
        "sns.lineplot(x, y1, color='r', ax=ax)\n",
        "sns.lineplot(x, y2, color='b', ax=ax)\n",
        "\n",
        "# Add some text for labels, and custom x-axis and y-axis tick labels, etc.\n",
        "ax.set_ylabel('Emissions (M Tons)')\n",
        "ax.set_yticks(range(0,700,100))\n",
        "ax.set_yticklabels([0,100,200,400,500,'600M'])\n",
        "ax.set_xticks(x)\n",
        "ax.set_xticklabels(labels_ca, rotation='vertical')\n",
        "ax.set_xlabel('Years')\n",
        "ax.set_title('Emissions From Electricity Generation', fontsize=14)\n",
        "\n",
        "\n",
        "ax.legend(['Texas Emissions', 'California Emissions'])\n",
        "plt.show()"
      ],
      "execution_count": 0,
      "outputs": [
        {
          "output_type": "display_data",
          "data": {
            "image/png": "[encoded data removed]",
            "text/plain": [
              "<Figure size 720x432 with 1 Axes>"
            ]
          },
          "metadata": {
            "tags": []
          }
        }
      ]
    },
    {
      "cell_type": "code",
      "metadata": {
        "id": "-WGamDLFzPS-",
        "colab_type": "code",
        "colab": {}
      },
      "source": [
        ""
      ],
      "execution_count": 0,
      "outputs": []
    }
  ]
}