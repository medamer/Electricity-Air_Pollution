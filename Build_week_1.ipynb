{
  "nbformat": 4,
  "nbformat_minor": 0,
  "metadata": {
    "colab": {
      "name": "Build_week_1.ipynb",
      "provenance": [],
      "collapsed_sections": []
    },
    "kernelspec": {
      "name": "python3",
      "display_name": "Python 3"
    }
  },
  "cells": [
    {
      "cell_type": "markdown",
      "metadata": {
        "id": "B53_JRSU5kYb"
      },
      "source": [
        "#Electricity And Air Pollution\n",
        "\n",
        "My project is about the electricity production using diffrent sources. I splited the sources to two categories, clean and non clean. Clean sources are Hydroelectric Conventional, Nuclear, Pumped Storage, Solar, and Wind. The non clean sources are fossil fuels and materials that come from plants, municipal and industrial wastes.\n",
        "\n",
        "The source of the datatset used is US Energy Information Administration www.eia.gov"
      ]
    },
    {
      "cell_type": "markdown",
      "metadata": {
        "id": "3BEO0KGE_2g1"
      },
      "source": [
        "#1.1-Import and cleand the data:\n",
        "   - Import the data.\n",
        "   - Add new column headers.\n",
        "   - Explore the data using describe function."
      ]
    },
    {
      "cell_type": "code",
      "metadata": {
        "id": "x3Jfy7a2pU3x"
      },
      "source": [
        "#Import all the libraries I'll need:\n",
        "import pandas as pd\n",
        "import numpy as np\n",
        "import matplotlib.pyplot as plt\n",
        "import seaborn as sns"
      ],
      "execution_count": 24,
      "outputs": []
    },
    {
      "cell_type": "code",
      "metadata": {
        "id": "4HOvhRxrqMD8"
      },
      "source": [
        "# Uploading the datasset and adding columns header:\n",
        "column_header = ['year', 'state', 'energy_source', 'CO2(Tons)',\t'SO2(Tons)',\t'NOx(Tons)']\n",
        "df1 = pd.read_csv('https://raw.githubusercontent.com/medamer/Built-week-1/master/Datasets/Emission.csv?token=APBHTZTEWJHUYWUPX4DRBRC766DVQ')\n",
        "df1.columns = column_header"
      ],
      "execution_count": 25,
      "outputs": []
    },
    {
      "cell_type": "code",
      "metadata": {
        "id": "wG3Ej1xW970n",
        "colab": {
          "base_uri": "https://localhost:8080/",
          "height": 198
        },
        "outputId": "48a8ef97-62a1-4e92-a17a-82dc5fae76ff"
      },
      "source": [
        "# Make a copie of the original file and check our dataset:\n",
        "emission = df1.copy()\n",
        "emission.head()"
      ],
      "execution_count": 26,
      "outputs": [
        {
          "output_type": "execute_result",
          "data": {
            "text/html": [
              "<div>\n",
              "<style scoped>\n",
              "    .dataframe tbody tr th:only-of-type {\n",
              "        vertical-align: middle;\n",
              "    }\n",
              "\n",
              "    .dataframe tbody tr th {\n",
              "        vertical-align: top;\n",
              "    }\n",
              "\n",
              "    .dataframe thead th {\n",
              "        text-align: right;\n",
              "    }\n",
              "</style>\n",
              "<table border=\"1\" class=\"dataframe\">\n",
              "  <thead>\n",
              "    <tr style=\"text-align: right;\">\n",
              "      <th></th>\n",
              "      <th>year</th>\n",
              "      <th>state</th>\n",
              "      <th>energy_source</th>\n",
              "      <th>CO2(Tons)</th>\n",
              "      <th>SO2(Tons)</th>\n",
              "      <th>NOx(Tons)</th>\n",
              "    </tr>\n",
              "  </thead>\n",
              "  <tbody>\n",
              "    <tr>\n",
              "      <th>0</th>\n",
              "      <td>1990</td>\n",
              "      <td>AK</td>\n",
              "      <td>All Sources</td>\n",
              "      <td>8417618</td>\n",
              "      <td>37482</td>\n",
              "      <td>25124</td>\n",
              "    </tr>\n",
              "    <tr>\n",
              "      <th>1</th>\n",
              "      <td>1990</td>\n",
              "      <td>AK</td>\n",
              "      <td>Coal</td>\n",
              "      <td>2936718</td>\n",
              "      <td>28046</td>\n",
              "      <td>11780</td>\n",
              "    </tr>\n",
              "    <tr>\n",
              "      <th>2</th>\n",
              "      <td>1990</td>\n",
              "      <td>AK</td>\n",
              "      <td>Natural Gas</td>\n",
              "      <td>4805316</td>\n",
              "      <td>22</td>\n",
              "      <td>11076</td>\n",
              "    </tr>\n",
              "    <tr>\n",
              "      <th>3</th>\n",
              "      <td>1990</td>\n",
              "      <td>AK</td>\n",
              "      <td>Other</td>\n",
              "      <td>0</td>\n",
              "      <td>1968</td>\n",
              "      <td>458</td>\n",
              "    </tr>\n",
              "    <tr>\n",
              "      <th>4</th>\n",
              "      <td>1990</td>\n",
              "      <td>AK</td>\n",
              "      <td>Petroleum</td>\n",
              "      <td>675584</td>\n",
              "      <td>7445</td>\n",
              "      <td>1808</td>\n",
              "    </tr>\n",
              "  </tbody>\n",
              "</table>\n",
              "</div>"
            ],
            "text/plain": [
              "   year state energy_source  CO2(Tons)  SO2(Tons)  NOx(Tons)\n",
              "0  1990    AK   All Sources    8417618      37482      25124\n",
              "1  1990    AK          Coal    2936718      28046      11780\n",
              "2  1990    AK   Natural Gas    4805316         22      11076\n",
              "3  1990    AK         Other          0       1968        458\n",
              "4  1990    AK     Petroleum     675584       7445       1808"
            ]
          },
          "metadata": {
            "tags": []
          },
          "execution_count": 26
        }
      ]
    },
    {
      "cell_type": "code",
      "metadata": {
        "id": "rNSXfwN_q9yn"
      },
      "source": [
        "# Uploading the datasset and adding columns header:\n",
        "column_header2 = ['year', 'state', 'energy_source','non_clean_source','clean_source', 'generation (MWH)']\n",
        "df2 = pd.read_csv('https://raw.githubusercontent.com/medamer/Built-week-1/master/Datasets/Electricity%20by%20state.csv?token=APBHTZSWBGUGCLIPADVUABS766DAU')\n",
        "df2.columns = column_header2"
      ],
      "execution_count": 27,
      "outputs": []
    },
    {
      "cell_type": "code",
      "metadata": {
        "id": "Q1BOnckJ-Yn9",
        "colab": {
          "base_uri": "https://localhost:8080/",
          "height": 198
        },
        "outputId": "c80e953e-91c5-4f08-a13f-26d1a9f37daf"
      },
      "source": [
        "# Make a copie of the original file and check our dataset:\n",
        "elec = df2.copy()\n",
        "elec.head()"
      ],
      "execution_count": 28,
      "outputs": [
        {
          "output_type": "execute_result",
          "data": {
            "text/html": [
              "<div>\n",
              "<style scoped>\n",
              "    .dataframe tbody tr th:only-of-type {\n",
              "        vertical-align: middle;\n",
              "    }\n",
              "\n",
              "    .dataframe tbody tr th {\n",
              "        vertical-align: top;\n",
              "    }\n",
              "\n",
              "    .dataframe thead th {\n",
              "        text-align: right;\n",
              "    }\n",
              "</style>\n",
              "<table border=\"1\" class=\"dataframe\">\n",
              "  <thead>\n",
              "    <tr style=\"text-align: right;\">\n",
              "      <th></th>\n",
              "      <th>year</th>\n",
              "      <th>state</th>\n",
              "      <th>energy_source</th>\n",
              "      <th>non_clean_source</th>\n",
              "      <th>clean_source</th>\n",
              "      <th>generation (MWH)</th>\n",
              "    </tr>\n",
              "  </thead>\n",
              "  <tbody>\n",
              "    <tr>\n",
              "      <th>0</th>\n",
              "      <td>1990</td>\n",
              "      <td>AK</td>\n",
              "      <td>Coal</td>\n",
              "      <td>1021146.0</td>\n",
              "      <td>0.0</td>\n",
              "      <td>1021146.0</td>\n",
              "    </tr>\n",
              "    <tr>\n",
              "      <th>1</th>\n",
              "      <td>1990</td>\n",
              "      <td>AK</td>\n",
              "      <td>Hydroelectric Conventional</td>\n",
              "      <td>0.0</td>\n",
              "      <td>1949042.0</td>\n",
              "      <td>1949042.0</td>\n",
              "    </tr>\n",
              "    <tr>\n",
              "      <th>2</th>\n",
              "      <td>1990</td>\n",
              "      <td>AK</td>\n",
              "      <td>Natural Gas</td>\n",
              "      <td>6932522.0</td>\n",
              "      <td>0.0</td>\n",
              "      <td>6932522.0</td>\n",
              "    </tr>\n",
              "    <tr>\n",
              "      <th>3</th>\n",
              "      <td>1990</td>\n",
              "      <td>AK</td>\n",
              "      <td>Petroleum</td>\n",
              "      <td>994232.0</td>\n",
              "      <td>0.0</td>\n",
              "      <td>994232.0</td>\n",
              "    </tr>\n",
              "    <tr>\n",
              "      <th>4</th>\n",
              "      <td>1990</td>\n",
              "      <td>AK</td>\n",
              "      <td>Total</td>\n",
              "      <td>0.0</td>\n",
              "      <td>11199012.0</td>\n",
              "      <td>11199012.0</td>\n",
              "    </tr>\n",
              "  </tbody>\n",
              "</table>\n",
              "</div>"
            ],
            "text/plain": [
              "   year state  ... clean_source  generation (MWH)\n",
              "0  1990    AK  ...          0.0         1021146.0\n",
              "1  1990    AK  ...    1949042.0         1949042.0\n",
              "2  1990    AK  ...          0.0         6932522.0\n",
              "3  1990    AK  ...          0.0          994232.0\n",
              "4  1990    AK  ...   11199012.0        11199012.0\n",
              "\n",
              "[5 rows x 6 columns]"
            ]
          },
          "metadata": {
            "tags": []
          },
          "execution_count": 28
        }
      ]
    },
    {
      "cell_type": "code",
      "metadata": {
        "id": "rrvFMVmt21Wu",
        "colab": {
          "base_uri": "https://localhost:8080/",
          "height": 288
        },
        "outputId": "0b3f4a2b-7e43-4bad-fa3b-fefab08e6309"
      },
      "source": [
        "# Check the description:\n",
        "elec.describe()"
      ],
      "execution_count": 29,
      "outputs": [
        {
          "output_type": "execute_result",
          "data": {
            "text/html": [
              "<div>\n",
              "<style scoped>\n",
              "    .dataframe tbody tr th:only-of-type {\n",
              "        vertical-align: middle;\n",
              "    }\n",
              "\n",
              "    .dataframe tbody tr th {\n",
              "        vertical-align: top;\n",
              "    }\n",
              "\n",
              "    .dataframe thead th {\n",
              "        text-align: right;\n",
              "    }\n",
              "</style>\n",
              "<table border=\"1\" class=\"dataframe\">\n",
              "  <thead>\n",
              "    <tr style=\"text-align: right;\">\n",
              "      <th></th>\n",
              "      <th>year</th>\n",
              "      <th>non_clean_source</th>\n",
              "      <th>clean_source</th>\n",
              "      <th>generation (MWH)</th>\n",
              "    </tr>\n",
              "  </thead>\n",
              "  <tbody>\n",
              "    <tr>\n",
              "      <th>count</th>\n",
              "      <td>13812.000000</td>\n",
              "      <td>1.381200e+04</td>\n",
              "      <td>1.381200e+04</td>\n",
              "      <td>1.381200e+04</td>\n",
              "    </tr>\n",
              "    <tr>\n",
              "      <th>mean</th>\n",
              "      <td>2004.741384</td>\n",
              "      <td>1.130030e+07</td>\n",
              "      <td>2.045234e+07</td>\n",
              "      <td>3.175264e+07</td>\n",
              "    </tr>\n",
              "    <tr>\n",
              "      <th>std</th>\n",
              "      <td>8.371057</td>\n",
              "      <td>3.779178e+07</td>\n",
              "      <td>6.581736e+07</td>\n",
              "      <td>7.278650e+07</td>\n",
              "    </tr>\n",
              "    <tr>\n",
              "      <th>min</th>\n",
              "      <td>1990.000000</td>\n",
              "      <td>-9.686600e+04</td>\n",
              "      <td>-4.480154e+06</td>\n",
              "      <td>-4.480154e+06</td>\n",
              "    </tr>\n",
              "    <tr>\n",
              "      <th>25%</th>\n",
              "      <td>1998.000000</td>\n",
              "      <td>0.000000e+00</td>\n",
              "      <td>0.000000e+00</td>\n",
              "      <td>1.988110e+05</td>\n",
              "    </tr>\n",
              "    <tr>\n",
              "      <th>50%</th>\n",
              "      <td>2005.000000</td>\n",
              "      <td>7.747800e+04</td>\n",
              "      <td>0.000000e+00</td>\n",
              "      <td>2.306989e+06</td>\n",
              "    </tr>\n",
              "    <tr>\n",
              "      <th>75%</th>\n",
              "      <td>2012.000000</td>\n",
              "      <td>2.128218e+06</td>\n",
              "      <td>2.540094e+06</td>\n",
              "      <td>2.411787e+07</td>\n",
              "    </tr>\n",
              "    <tr>\n",
              "      <th>max</th>\n",
              "      <td>2018.000000</td>\n",
              "      <td>4.794262e+08</td>\n",
              "      <td>9.547048e+08</td>\n",
              "      <td>9.547048e+08</td>\n",
              "    </tr>\n",
              "  </tbody>\n",
              "</table>\n",
              "</div>"
            ],
            "text/plain": [
              "               year  non_clean_source  clean_source  generation (MWH)\n",
              "count  13812.000000      1.381200e+04  1.381200e+04      1.381200e+04\n",
              "mean    2004.741384      1.130030e+07  2.045234e+07      3.175264e+07\n",
              "std        8.371057      3.779178e+07  6.581736e+07      7.278650e+07\n",
              "min     1990.000000     -9.686600e+04 -4.480154e+06     -4.480154e+06\n",
              "25%     1998.000000      0.000000e+00  0.000000e+00      1.988110e+05\n",
              "50%     2005.000000      7.747800e+04  0.000000e+00      2.306989e+06\n",
              "75%     2012.000000      2.128218e+06  2.540094e+06      2.411787e+07\n",
              "max     2018.000000      4.794262e+08  9.547048e+08      9.547048e+08"
            ]
          },
          "metadata": {
            "tags": []
          },
          "execution_count": 29
        }
      ]
    },
    {
      "cell_type": "code",
      "metadata": {
        "id": "WQ7oINsx2-8H",
        "colab": {
          "base_uri": "https://localhost:8080/",
          "height": 288
        },
        "outputId": "93ed9e03-7683-437c-db75-08a468e067fb"
      },
      "source": [
        "# Check the description:\n",
        "emission.describe()"
      ],
      "execution_count": 30,
      "outputs": [
        {
          "output_type": "execute_result",
          "data": {
            "text/html": [
              "<div>\n",
              "<style scoped>\n",
              "    .dataframe tbody tr th:only-of-type {\n",
              "        vertical-align: middle;\n",
              "    }\n",
              "\n",
              "    .dataframe tbody tr th {\n",
              "        vertical-align: top;\n",
              "    }\n",
              "\n",
              "    .dataframe thead th {\n",
              "        text-align: right;\n",
              "    }\n",
              "</style>\n",
              "<table border=\"1\" class=\"dataframe\">\n",
              "  <thead>\n",
              "    <tr style=\"text-align: right;\">\n",
              "      <th></th>\n",
              "      <th>year</th>\n",
              "      <th>CO2(Tons)</th>\n",
              "      <th>SO2(Tons)</th>\n",
              "      <th>NOx(Tons)</th>\n",
              "    </tr>\n",
              "  </thead>\n",
              "  <tbody>\n",
              "    <tr>\n",
              "      <th>count</th>\n",
              "      <td>9414.000000</td>\n",
              "      <td>9.414000e+03</td>\n",
              "      <td>9.414000e+03</td>\n",
              "      <td>9.414000e+03</td>\n",
              "    </tr>\n",
              "    <tr>\n",
              "      <th>mean</th>\n",
              "      <td>2004.674634</td>\n",
              "      <td>2.750423e+07</td>\n",
              "      <td>1.132690e+05</td>\n",
              "      <td>5.558989e+04</td>\n",
              "    </tr>\n",
              "    <tr>\n",
              "      <th>std</th>\n",
              "      <td>8.104061</td>\n",
              "      <td>5.732649e+07</td>\n",
              "      <td>3.363518e+05</td>\n",
              "      <td>1.308351e+05</td>\n",
              "    </tr>\n",
              "    <tr>\n",
              "      <th>min</th>\n",
              "      <td>1990.000000</td>\n",
              "      <td>0.000000e+00</td>\n",
              "      <td>0.000000e+00</td>\n",
              "      <td>0.000000e+00</td>\n",
              "    </tr>\n",
              "    <tr>\n",
              "      <th>25%</th>\n",
              "      <td>1998.000000</td>\n",
              "      <td>0.000000e+00</td>\n",
              "      <td>2.200000e+01</td>\n",
              "      <td>7.820000e+02</td>\n",
              "    </tr>\n",
              "    <tr>\n",
              "      <th>50%</th>\n",
              "      <td>2005.000000</td>\n",
              "      <td>1.132304e+06</td>\n",
              "      <td>1.008000e+03</td>\n",
              "      <td>4.797000e+03</td>\n",
              "    </tr>\n",
              "    <tr>\n",
              "      <th>75%</th>\n",
              "      <td>2012.000000</td>\n",
              "      <td>2.372959e+07</td>\n",
              "      <td>4.706350e+04</td>\n",
              "      <td>3.543450e+04</td>\n",
              "    </tr>\n",
              "    <tr>\n",
              "      <th>max</th>\n",
              "      <td>2018.000000</td>\n",
              "      <td>5.349282e+08</td>\n",
              "      <td>4.091966e+06</td>\n",
              "      <td>1.384336e+06</td>\n",
              "    </tr>\n",
              "  </tbody>\n",
              "</table>\n",
              "</div>"
            ],
            "text/plain": [
              "              year     CO2(Tons)     SO2(Tons)     NOx(Tons)\n",
              "count  9414.000000  9.414000e+03  9.414000e+03  9.414000e+03\n",
              "mean   2004.674634  2.750423e+07  1.132690e+05  5.558989e+04\n",
              "std       8.104061  5.732649e+07  3.363518e+05  1.308351e+05\n",
              "min    1990.000000  0.000000e+00  0.000000e+00  0.000000e+00\n",
              "25%    1998.000000  0.000000e+00  2.200000e+01  7.820000e+02\n",
              "50%    2005.000000  1.132304e+06  1.008000e+03  4.797000e+03\n",
              "75%    2012.000000  2.372959e+07  4.706350e+04  3.543450e+04\n",
              "max    2018.000000  5.349282e+08  4.091966e+06  1.384336e+06"
            ]
          },
          "metadata": {
            "tags": []
          },
          "execution_count": 30
        }
      ]
    },
    {
      "cell_type": "markdown",
      "metadata": {
        "id": "DFXcZcK0AbGQ"
      },
      "source": [
        "#1.2- Data wrangling:\n",
        "  - Add columns.\n",
        "  - Remove the sub-totals from both datasets.\n",
        "  - Check the shape.\n",
        "  - Join the two datasets using the function merge.\n",
        "  - Check for missing value and replace them with zeros."
      ]
    },
    {
      "cell_type": "code",
      "metadata": {
        "id": "rz0RfIn63cv0",
        "colab": {
          "base_uri": "https://localhost:8080/",
          "height": 198
        },
        "outputId": "f9a528be-6f70-4186-cc30-080143533170"
      },
      "source": [
        "# Combine all types of emissions in one column, without dropping the originals:\n",
        "emission['emissions'] = emission['CO2(Tons)']+emission['SO2(Tons)']+emission['NOx(Tons)']\n",
        "emission.head()"
      ],
      "execution_count": 31,
      "outputs": [
        {
          "output_type": "execute_result",
          "data": {
            "text/html": [
              "<div>\n",
              "<style scoped>\n",
              "    .dataframe tbody tr th:only-of-type {\n",
              "        vertical-align: middle;\n",
              "    }\n",
              "\n",
              "    .dataframe tbody tr th {\n",
              "        vertical-align: top;\n",
              "    }\n",
              "\n",
              "    .dataframe thead th {\n",
              "        text-align: right;\n",
              "    }\n",
              "</style>\n",
              "<table border=\"1\" class=\"dataframe\">\n",
              "  <thead>\n",
              "    <tr style=\"text-align: right;\">\n",
              "      <th></th>\n",
              "      <th>year</th>\n",
              "      <th>state</th>\n",
              "      <th>energy_source</th>\n",
              "      <th>CO2(Tons)</th>\n",
              "      <th>SO2(Tons)</th>\n",
              "      <th>NOx(Tons)</th>\n",
              "      <th>emissions</th>\n",
              "    </tr>\n",
              "  </thead>\n",
              "  <tbody>\n",
              "    <tr>\n",
              "      <th>0</th>\n",
              "      <td>1990</td>\n",
              "      <td>AK</td>\n",
              "      <td>All Sources</td>\n",
              "      <td>8417618</td>\n",
              "      <td>37482</td>\n",
              "      <td>25124</td>\n",
              "      <td>8480224</td>\n",
              "    </tr>\n",
              "    <tr>\n",
              "      <th>1</th>\n",
              "      <td>1990</td>\n",
              "      <td>AK</td>\n",
              "      <td>Coal</td>\n",
              "      <td>2936718</td>\n",
              "      <td>28046</td>\n",
              "      <td>11780</td>\n",
              "      <td>2976544</td>\n",
              "    </tr>\n",
              "    <tr>\n",
              "      <th>2</th>\n",
              "      <td>1990</td>\n",
              "      <td>AK</td>\n",
              "      <td>Natural Gas</td>\n",
              "      <td>4805316</td>\n",
              "      <td>22</td>\n",
              "      <td>11076</td>\n",
              "      <td>4816414</td>\n",
              "    </tr>\n",
              "    <tr>\n",
              "      <th>3</th>\n",
              "      <td>1990</td>\n",
              "      <td>AK</td>\n",
              "      <td>Other</td>\n",
              "      <td>0</td>\n",
              "      <td>1968</td>\n",
              "      <td>458</td>\n",
              "      <td>2426</td>\n",
              "    </tr>\n",
              "    <tr>\n",
              "      <th>4</th>\n",
              "      <td>1990</td>\n",
              "      <td>AK</td>\n",
              "      <td>Petroleum</td>\n",
              "      <td>675584</td>\n",
              "      <td>7445</td>\n",
              "      <td>1808</td>\n",
              "      <td>684837</td>\n",
              "    </tr>\n",
              "  </tbody>\n",
              "</table>\n",
              "</div>"
            ],
            "text/plain": [
              "   year state energy_source  CO2(Tons)  SO2(Tons)  NOx(Tons)  emissions\n",
              "0  1990    AK   All Sources    8417618      37482      25124    8480224\n",
              "1  1990    AK          Coal    2936718      28046      11780    2976544\n",
              "2  1990    AK   Natural Gas    4805316         22      11076    4816414\n",
              "3  1990    AK         Other          0       1968        458       2426\n",
              "4  1990    AK     Petroleum     675584       7445       1808     684837"
            ]
          },
          "metadata": {
            "tags": []
          },
          "execution_count": 31
        }
      ]
    },
    {
      "cell_type": "code",
      "metadata": {
        "id": "n_pzP2Zs9U62",
        "colab": {
          "base_uri": "https://localhost:8080/",
          "height": 198
        },
        "outputId": "6b9b6c72-b7ed-44c6-947d-600dca05c3dd"
      },
      "source": [
        "# Remove the rows containig sub-totals:\n",
        "emission = emission[~emission.energy_source.str.contains('All Sources')]\n",
        "emission.head()"
      ],
      "execution_count": 32,
      "outputs": [
        {
          "output_type": "execute_result",
          "data": {
            "text/html": [
              "<div>\n",
              "<style scoped>\n",
              "    .dataframe tbody tr th:only-of-type {\n",
              "        vertical-align: middle;\n",
              "    }\n",
              "\n",
              "    .dataframe tbody tr th {\n",
              "        vertical-align: top;\n",
              "    }\n",
              "\n",
              "    .dataframe thead th {\n",
              "        text-align: right;\n",
              "    }\n",
              "</style>\n",
              "<table border=\"1\" class=\"dataframe\">\n",
              "  <thead>\n",
              "    <tr style=\"text-align: right;\">\n",
              "      <th></th>\n",
              "      <th>year</th>\n",
              "      <th>state</th>\n",
              "      <th>energy_source</th>\n",
              "      <th>CO2(Tons)</th>\n",
              "      <th>SO2(Tons)</th>\n",
              "      <th>NOx(Tons)</th>\n",
              "      <th>emissions</th>\n",
              "    </tr>\n",
              "  </thead>\n",
              "  <tbody>\n",
              "    <tr>\n",
              "      <th>1</th>\n",
              "      <td>1990</td>\n",
              "      <td>AK</td>\n",
              "      <td>Coal</td>\n",
              "      <td>2936718</td>\n",
              "      <td>28046</td>\n",
              "      <td>11780</td>\n",
              "      <td>2976544</td>\n",
              "    </tr>\n",
              "    <tr>\n",
              "      <th>2</th>\n",
              "      <td>1990</td>\n",
              "      <td>AK</td>\n",
              "      <td>Natural Gas</td>\n",
              "      <td>4805316</td>\n",
              "      <td>22</td>\n",
              "      <td>11076</td>\n",
              "      <td>4816414</td>\n",
              "    </tr>\n",
              "    <tr>\n",
              "      <th>3</th>\n",
              "      <td>1990</td>\n",
              "      <td>AK</td>\n",
              "      <td>Other</td>\n",
              "      <td>0</td>\n",
              "      <td>1968</td>\n",
              "      <td>458</td>\n",
              "      <td>2426</td>\n",
              "    </tr>\n",
              "    <tr>\n",
              "      <th>4</th>\n",
              "      <td>1990</td>\n",
              "      <td>AK</td>\n",
              "      <td>Petroleum</td>\n",
              "      <td>675584</td>\n",
              "      <td>7445</td>\n",
              "      <td>1808</td>\n",
              "      <td>684837</td>\n",
              "    </tr>\n",
              "    <tr>\n",
              "      <th>6</th>\n",
              "      <td>1990</td>\n",
              "      <td>AL</td>\n",
              "      <td>Coal</td>\n",
              "      <td>103158948</td>\n",
              "      <td>970457</td>\n",
              "      <td>420795</td>\n",
              "      <td>104550200</td>\n",
              "    </tr>\n",
              "  </tbody>\n",
              "</table>\n",
              "</div>"
            ],
            "text/plain": [
              "   year state energy_source  CO2(Tons)  SO2(Tons)  NOx(Tons)  emissions\n",
              "1  1990    AK          Coal    2936718      28046      11780    2976544\n",
              "2  1990    AK   Natural Gas    4805316         22      11076    4816414\n",
              "3  1990    AK         Other          0       1968        458       2426\n",
              "4  1990    AK     Petroleum     675584       7445       1808     684837\n",
              "6  1990    AL          Coal  103158948     970457     420795  104550200"
            ]
          },
          "metadata": {
            "tags": []
          },
          "execution_count": 32
        }
      ]
    },
    {
      "cell_type": "code",
      "metadata": {
        "id": "upAcf4-7_FYi",
        "colab": {
          "base_uri": "https://localhost:8080/",
          "height": 198
        },
        "outputId": "f0ce8fc1-8759-498c-e278-dc648cfbd24f"
      },
      "source": [
        "# Remove the rows containig sub-totals:\n",
        "elec = elec[~elec.energy_source.str.contains('Total')]\n",
        "elec.head()"
      ],
      "execution_count": 33,
      "outputs": [
        {
          "output_type": "execute_result",
          "data": {
            "text/html": [
              "<div>\n",
              "<style scoped>\n",
              "    .dataframe tbody tr th:only-of-type {\n",
              "        vertical-align: middle;\n",
              "    }\n",
              "\n",
              "    .dataframe tbody tr th {\n",
              "        vertical-align: top;\n",
              "    }\n",
              "\n",
              "    .dataframe thead th {\n",
              "        text-align: right;\n",
              "    }\n",
              "</style>\n",
              "<table border=\"1\" class=\"dataframe\">\n",
              "  <thead>\n",
              "    <tr style=\"text-align: right;\">\n",
              "      <th></th>\n",
              "      <th>year</th>\n",
              "      <th>state</th>\n",
              "      <th>energy_source</th>\n",
              "      <th>non_clean_source</th>\n",
              "      <th>clean_source</th>\n",
              "      <th>generation (MWH)</th>\n",
              "    </tr>\n",
              "  </thead>\n",
              "  <tbody>\n",
              "    <tr>\n",
              "      <th>0</th>\n",
              "      <td>1990</td>\n",
              "      <td>AK</td>\n",
              "      <td>Coal</td>\n",
              "      <td>1021146.0</td>\n",
              "      <td>0.0</td>\n",
              "      <td>1021146.0</td>\n",
              "    </tr>\n",
              "    <tr>\n",
              "      <th>1</th>\n",
              "      <td>1990</td>\n",
              "      <td>AK</td>\n",
              "      <td>Hydroelectric Conventional</td>\n",
              "      <td>0.0</td>\n",
              "      <td>1949042.0</td>\n",
              "      <td>1949042.0</td>\n",
              "    </tr>\n",
              "    <tr>\n",
              "      <th>2</th>\n",
              "      <td>1990</td>\n",
              "      <td>AK</td>\n",
              "      <td>Natural Gas</td>\n",
              "      <td>6932522.0</td>\n",
              "      <td>0.0</td>\n",
              "      <td>6932522.0</td>\n",
              "    </tr>\n",
              "    <tr>\n",
              "      <th>3</th>\n",
              "      <td>1990</td>\n",
              "      <td>AK</td>\n",
              "      <td>Petroleum</td>\n",
              "      <td>994232.0</td>\n",
              "      <td>0.0</td>\n",
              "      <td>994232.0</td>\n",
              "    </tr>\n",
              "    <tr>\n",
              "      <th>5</th>\n",
              "      <td>1990</td>\n",
              "      <td>AK</td>\n",
              "      <td>Wind</td>\n",
              "      <td>0.0</td>\n",
              "      <td>0.0</td>\n",
              "      <td>0.0</td>\n",
              "    </tr>\n",
              "  </tbody>\n",
              "</table>\n",
              "</div>"
            ],
            "text/plain": [
              "   year state  ... clean_source  generation (MWH)\n",
              "0  1990    AK  ...          0.0         1021146.0\n",
              "1  1990    AK  ...    1949042.0         1949042.0\n",
              "2  1990    AK  ...          0.0         6932522.0\n",
              "3  1990    AK  ...          0.0          994232.0\n",
              "5  1990    AK  ...          0.0               0.0\n",
              "\n",
              "[5 rows x 6 columns]"
            ]
          },
          "metadata": {
            "tags": []
          },
          "execution_count": 33
        }
      ]
    },
    {
      "cell_type": "code",
      "metadata": {
        "id": "5rMRL4vPCKDy",
        "colab": {
          "base_uri": "https://localhost:8080/"
        },
        "outputId": "2155f33a-6fdd-458a-92f8-97cda6cd440a"
      },
      "source": [
        "# Check the shape of our dataset:\n",
        "emission.shape"
      ],
      "execution_count": 34,
      "outputs": [
        {
          "output_type": "execute_result",
          "data": {
            "text/plain": [
              "(7935, 7)"
            ]
          },
          "metadata": {
            "tags": []
          },
          "execution_count": 34
        }
      ]
    },
    {
      "cell_type": "code",
      "metadata": {
        "id": "ra83h655C7rP",
        "colab": {
          "base_uri": "https://localhost:8080/"
        },
        "outputId": "67ac8cb8-5fce-4ba2-9f8b-fe5dab63398a"
      },
      "source": [
        "# Check the shape of our dataset:\n",
        "elec.shape"
      ],
      "execution_count": 35,
      "outputs": [
        {
          "output_type": "execute_result",
          "data": {
            "text/plain": [
              "(12333, 6)"
            ]
          },
          "metadata": {
            "tags": []
          },
          "execution_count": 35
        }
      ]
    },
    {
      "cell_type": "code",
      "metadata": {
        "id": "CZE9MkTeC_eG",
        "colab": {
          "base_uri": "https://localhost:8080/",
          "height": 198
        },
        "outputId": "e345338b-2483-453d-8b91-6ce3d4609981"
      },
      "source": [
        "# Join the 2 datasets using the function merge:\n",
        "elec_emissions = pd.merge(elec, emission, how = 'outer', on = ['year', 'state', 'energy_source'])\n",
        "elec_emissions.head()"
      ],
      "execution_count": 36,
      "outputs": [
        {
          "output_type": "execute_result",
          "data": {
            "text/html": [
              "<div>\n",
              "<style scoped>\n",
              "    .dataframe tbody tr th:only-of-type {\n",
              "        vertical-align: middle;\n",
              "    }\n",
              "\n",
              "    .dataframe tbody tr th {\n",
              "        vertical-align: top;\n",
              "    }\n",
              "\n",
              "    .dataframe thead th {\n",
              "        text-align: right;\n",
              "    }\n",
              "</style>\n",
              "<table border=\"1\" class=\"dataframe\">\n",
              "  <thead>\n",
              "    <tr style=\"text-align: right;\">\n",
              "      <th></th>\n",
              "      <th>year</th>\n",
              "      <th>state</th>\n",
              "      <th>energy_source</th>\n",
              "      <th>non_clean_source</th>\n",
              "      <th>clean_source</th>\n",
              "      <th>generation (MWH)</th>\n",
              "      <th>CO2(Tons)</th>\n",
              "      <th>SO2(Tons)</th>\n",
              "      <th>NOx(Tons)</th>\n",
              "      <th>emissions</th>\n",
              "    </tr>\n",
              "  </thead>\n",
              "  <tbody>\n",
              "    <tr>\n",
              "      <th>0</th>\n",
              "      <td>1990</td>\n",
              "      <td>AK</td>\n",
              "      <td>Coal</td>\n",
              "      <td>1021146.0</td>\n",
              "      <td>0.0</td>\n",
              "      <td>1021146.0</td>\n",
              "      <td>2936718.0</td>\n",
              "      <td>28046.0</td>\n",
              "      <td>11780.0</td>\n",
              "      <td>2976544.0</td>\n",
              "    </tr>\n",
              "    <tr>\n",
              "      <th>1</th>\n",
              "      <td>1990</td>\n",
              "      <td>AK</td>\n",
              "      <td>Hydroelectric Conventional</td>\n",
              "      <td>0.0</td>\n",
              "      <td>1949042.0</td>\n",
              "      <td>1949042.0</td>\n",
              "      <td>NaN</td>\n",
              "      <td>NaN</td>\n",
              "      <td>NaN</td>\n",
              "      <td>NaN</td>\n",
              "    </tr>\n",
              "    <tr>\n",
              "      <th>2</th>\n",
              "      <td>1990</td>\n",
              "      <td>AK</td>\n",
              "      <td>Natural Gas</td>\n",
              "      <td>6932522.0</td>\n",
              "      <td>0.0</td>\n",
              "      <td>6932522.0</td>\n",
              "      <td>4805316.0</td>\n",
              "      <td>22.0</td>\n",
              "      <td>11076.0</td>\n",
              "      <td>4816414.0</td>\n",
              "    </tr>\n",
              "    <tr>\n",
              "      <th>3</th>\n",
              "      <td>1990</td>\n",
              "      <td>AK</td>\n",
              "      <td>Petroleum</td>\n",
              "      <td>994232.0</td>\n",
              "      <td>0.0</td>\n",
              "      <td>994232.0</td>\n",
              "      <td>675584.0</td>\n",
              "      <td>7445.0</td>\n",
              "      <td>1808.0</td>\n",
              "      <td>684837.0</td>\n",
              "    </tr>\n",
              "    <tr>\n",
              "      <th>4</th>\n",
              "      <td>1990</td>\n",
              "      <td>AK</td>\n",
              "      <td>Wind</td>\n",
              "      <td>0.0</td>\n",
              "      <td>0.0</td>\n",
              "      <td>0.0</td>\n",
              "      <td>NaN</td>\n",
              "      <td>NaN</td>\n",
              "      <td>NaN</td>\n",
              "      <td>NaN</td>\n",
              "    </tr>\n",
              "  </tbody>\n",
              "</table>\n",
              "</div>"
            ],
            "text/plain": [
              "   year state               energy_source  ...  SO2(Tons)  NOx(Tons)  emissions\n",
              "0  1990    AK                        Coal  ...    28046.0    11780.0  2976544.0\n",
              "1  1990    AK  Hydroelectric Conventional  ...        NaN        NaN        NaN\n",
              "2  1990    AK                 Natural Gas  ...       22.0    11076.0  4816414.0\n",
              "3  1990    AK                   Petroleum  ...     7445.0     1808.0   684837.0\n",
              "4  1990    AK                        Wind  ...        NaN        NaN        NaN\n",
              "\n",
              "[5 rows x 10 columns]"
            ]
          },
          "metadata": {
            "tags": []
          },
          "execution_count": 36
        }
      ]
    },
    {
      "cell_type": "markdown",
      "metadata": {
        "id": "kAc85cLsFQ0a"
      },
      "source": [
        "Above I choose \"outer\" to keep all the rows, because the rows with 0 emissions would be deleted, and they are important to keep"
      ]
    },
    {
      "cell_type": "code",
      "metadata": {
        "id": "pezDIK1qDmll",
        "colab": {
          "base_uri": "https://localhost:8080/"
        },
        "outputId": "5a690db4-89c0-4b0c-abbb-bdc1434c6c6f"
      },
      "source": [
        "# Check for null values, because the clean sources like wind or solar don't produce emissions:\n",
        "elec_emissions.isnull().sum()"
      ],
      "execution_count": 37,
      "outputs": [
        {
          "output_type": "execute_result",
          "data": {
            "text/plain": [
              "year                   0\n",
              "state                  0\n",
              "energy_source          0\n",
              "non_clean_source     301\n",
              "clean_source         301\n",
              "generation (MWH)     301\n",
              "CO2(Tons)           4696\n",
              "SO2(Tons)           4696\n",
              "NOx(Tons)           4696\n",
              "emissions           4696\n",
              "dtype: int64"
            ]
          },
          "metadata": {
            "tags": []
          },
          "execution_count": 37
        }
      ]
    },
    {
      "cell_type": "code",
      "metadata": {
        "id": "zbYx93P0yTwI",
        "colab": {
          "base_uri": "https://localhost:8080/"
        },
        "outputId": "a8bed2d4-1056-41bc-911d-0052a356b357"
      },
      "source": [
        "# Check the shape of our new dataset:\n",
        "elec_emissions.shape"
      ],
      "execution_count": 38,
      "outputs": [
        {
          "output_type": "execute_result",
          "data": {
            "text/plain": [
              "(12634, 10)"
            ]
          },
          "metadata": {
            "tags": []
          },
          "execution_count": 38
        }
      ]
    },
    {
      "cell_type": "code",
      "metadata": {
        "id": "C3McRzrPyYAP"
      },
      "source": [
        "# Replace the NaN with zeros:\n",
        "elec_emissions = elec_emissions.fillna(0)"
      ],
      "execution_count": 39,
      "outputs": []
    },
    {
      "cell_type": "code",
      "metadata": {
        "id": "4Yiv67kLyrdw",
        "colab": {
          "base_uri": "https://localhost:8080/"
        },
        "outputId": "9c34b4b5-8368-45a5-a815-b7ca8532aad9"
      },
      "source": [
        "# Check if there are any more NaNs left:\n",
        "elec_emissions.isnull().sum()"
      ],
      "execution_count": 40,
      "outputs": [
        {
          "output_type": "execute_result",
          "data": {
            "text/plain": [
              "year                0\n",
              "state               0\n",
              "energy_source       0\n",
              "non_clean_source    0\n",
              "clean_source        0\n",
              "generation (MWH)    0\n",
              "CO2(Tons)           0\n",
              "SO2(Tons)           0\n",
              "NOx(Tons)           0\n",
              "emissions           0\n",
              "dtype: int64"
            ]
          },
          "metadata": {
            "tags": []
          },
          "execution_count": 40
        }
      ]
    },
    {
      "cell_type": "code",
      "metadata": {
        "id": "A8X-qxjQdocO",
        "colab": {
          "base_uri": "https://localhost:8080/",
          "height": 198
        },
        "outputId": "ad6ec24a-501f-4ace-bfed-0d71b228dd7b"
      },
      "source": [
        "# Check our dataset:\n",
        "elec_emissions.head()"
      ],
      "execution_count": 41,
      "outputs": [
        {
          "output_type": "execute_result",
          "data": {
            "text/html": [
              "<div>\n",
              "<style scoped>\n",
              "    .dataframe tbody tr th:only-of-type {\n",
              "        vertical-align: middle;\n",
              "    }\n",
              "\n",
              "    .dataframe tbody tr th {\n",
              "        vertical-align: top;\n",
              "    }\n",
              "\n",
              "    .dataframe thead th {\n",
              "        text-align: right;\n",
              "    }\n",
              "</style>\n",
              "<table border=\"1\" class=\"dataframe\">\n",
              "  <thead>\n",
              "    <tr style=\"text-align: right;\">\n",
              "      <th></th>\n",
              "      <th>year</th>\n",
              "      <th>state</th>\n",
              "      <th>energy_source</th>\n",
              "      <th>non_clean_source</th>\n",
              "      <th>clean_source</th>\n",
              "      <th>generation (MWH)</th>\n",
              "      <th>CO2(Tons)</th>\n",
              "      <th>SO2(Tons)</th>\n",
              "      <th>NOx(Tons)</th>\n",
              "      <th>emissions</th>\n",
              "    </tr>\n",
              "  </thead>\n",
              "  <tbody>\n",
              "    <tr>\n",
              "      <th>0</th>\n",
              "      <td>1990</td>\n",
              "      <td>AK</td>\n",
              "      <td>Coal</td>\n",
              "      <td>1021146.0</td>\n",
              "      <td>0.0</td>\n",
              "      <td>1021146.0</td>\n",
              "      <td>2936718.0</td>\n",
              "      <td>28046.0</td>\n",
              "      <td>11780.0</td>\n",
              "      <td>2976544.0</td>\n",
              "    </tr>\n",
              "    <tr>\n",
              "      <th>1</th>\n",
              "      <td>1990</td>\n",
              "      <td>AK</td>\n",
              "      <td>Hydroelectric Conventional</td>\n",
              "      <td>0.0</td>\n",
              "      <td>1949042.0</td>\n",
              "      <td>1949042.0</td>\n",
              "      <td>0.0</td>\n",
              "      <td>0.0</td>\n",
              "      <td>0.0</td>\n",
              "      <td>0.0</td>\n",
              "    </tr>\n",
              "    <tr>\n",
              "      <th>2</th>\n",
              "      <td>1990</td>\n",
              "      <td>AK</td>\n",
              "      <td>Natural Gas</td>\n",
              "      <td>6932522.0</td>\n",
              "      <td>0.0</td>\n",
              "      <td>6932522.0</td>\n",
              "      <td>4805316.0</td>\n",
              "      <td>22.0</td>\n",
              "      <td>11076.0</td>\n",
              "      <td>4816414.0</td>\n",
              "    </tr>\n",
              "    <tr>\n",
              "      <th>3</th>\n",
              "      <td>1990</td>\n",
              "      <td>AK</td>\n",
              "      <td>Petroleum</td>\n",
              "      <td>994232.0</td>\n",
              "      <td>0.0</td>\n",
              "      <td>994232.0</td>\n",
              "      <td>675584.0</td>\n",
              "      <td>7445.0</td>\n",
              "      <td>1808.0</td>\n",
              "      <td>684837.0</td>\n",
              "    </tr>\n",
              "    <tr>\n",
              "      <th>4</th>\n",
              "      <td>1990</td>\n",
              "      <td>AK</td>\n",
              "      <td>Wind</td>\n",
              "      <td>0.0</td>\n",
              "      <td>0.0</td>\n",
              "      <td>0.0</td>\n",
              "      <td>0.0</td>\n",
              "      <td>0.0</td>\n",
              "      <td>0.0</td>\n",
              "      <td>0.0</td>\n",
              "    </tr>\n",
              "  </tbody>\n",
              "</table>\n",
              "</div>"
            ],
            "text/plain": [
              "   year state               energy_source  ...  SO2(Tons)  NOx(Tons)  emissions\n",
              "0  1990    AK                        Coal  ...    28046.0    11780.0  2976544.0\n",
              "1  1990    AK  Hydroelectric Conventional  ...        0.0        0.0        0.0\n",
              "2  1990    AK                 Natural Gas  ...       22.0    11076.0  4816414.0\n",
              "3  1990    AK                   Petroleum  ...     7445.0     1808.0   684837.0\n",
              "4  1990    AK                        Wind  ...        0.0        0.0        0.0\n",
              "\n",
              "[5 rows x 10 columns]"
            ]
          },
          "metadata": {
            "tags": []
          },
          "execution_count": 41
        }
      ]
    },
    {
      "cell_type": "markdown",
      "metadata": {
        "id": "Cix6SJrIt5j5"
      },
      "source": [
        "What I'm going to do here is build my first graph to show the relationship between generating electricity with different sources and the emissoin for all states:"
      ]
    },
    {
      "cell_type": "code",
      "metadata": {
        "id": "95MgOIJ1-Nk0",
        "colab": {
          "base_uri": "https://localhost:8080/",
          "height": 587
        },
        "outputId": "e759fe01-9049-47cf-91e6-ddcb5086b102"
      },
      "source": [
        "#Visualization 1:\n",
        "\n",
        "labels = elec_emissions['year']\n",
        "non_clean = elec_emissions['non_clean_source']/10**6\n",
        "clean = elec_emissions['clean_source']/10**6\n",
        "\n",
        "x = elec_emissions['year']  # the label locations\n",
        "width = 0.40  # the width of the bars\n",
        "\n",
        "#Plot the X and Ys:\n",
        "fig, ax = plt.subplots(figsize=(16,9))\n",
        "ax.bar(x-width/2, non_clean, width, label='Non Clean Source',color='#a16172')\n",
        "ax.bar(x+width/2, clean, width, label='Clean Source',color='#9ee9a0')\n",
        "\n",
        "# Add some text for labels, and custom x-axis and y-axis tick labels, etc.\n",
        "ax.set_ylabel('Electricty (Megawatthours)')\n",
        "ax.set_yticks(range(0,600,100))\n",
        "ax.set_yticklabels([0,100,200,300,400,'500M'])\n",
        "ax.set_xticks(x)\n",
        "ax.set_xticklabels(labels, rotation='vertical')\n",
        "ax.set_xlabel('Years')\n",
        "\n",
        "# Sum the emissions by years:\n",
        "derp = elec_emissions.groupby('year')['emissions'].sum().to_dict()\n",
        "derp_x = [i for i in derp.keys()]\n",
        "derp_y = [i/10**7 for i in derp.values()] # Devided by 10 Million for graph presentation\n",
        "\n",
        "# Add a scond y-axis, plot the line, and add labels:\n",
        "ax2 = ax.twinx()\n",
        "ax2.plot(derp_x, derp_y, linestyle='-', label='Emissions',color='#365a80')\n",
        "ax2.set_yticks(range(0,700,100))\n",
        "ax2.set_yticklabels([0,100,200,300,400,500,'600 (10M)'])\n",
        "ax2.set_ylabel('Emissions (Metric Tons)')\n",
        "\n",
        "# Add title:\n",
        "ax.set_title('Electricity Generation Vs Emissions', fontsize= 18, fontweight='bold',color='#1a2f43')\n",
        "ax.legend()\n",
        "ax2.legend(loc='upper right')\n",
        "ax.axhline(y=0, color='#414141', linewidth=1.5, alpha=.5)\n",
        "\n",
        "\n",
        "plt.show()"
      ],
      "execution_count": 42,
      "outputs": [
        {
          "output_type": "display_data",
          "data": {
            "image/png": "[encoded data removed]",
            "text/plain": [
              "<Figure size 1152x648 with 2 Axes>"
            ]
          },
          "metadata": {
            "tags": [],
            "needs_background": "light"
          }
        }
      ]
    },
    {
      "cell_type": "code",
      "metadata": {
        "id": "OkDjtAwZ3422",
        "colab": {
          "base_uri": "https://localhost:8080/",
          "height": 198
        },
        "outputId": "48ad0ee9-575e-42d6-bbb5-64787e002a97"
      },
      "source": [
        "# Sum the column emission by states:\n",
        "derp2 = elec_emissions.groupby('state')['emissions'].sum().to_dict()\n",
        "derp_x2 = [i for i in derp2.keys()]\n",
        "derp_y2 = [i/10**7 for i in derp2.values()] # Devided by 10 Million for graph presentation\n",
        "state = pd.Series(derp_x2)\n",
        "emiss = pd.Series(derp_y2)\n",
        "\n",
        "#Make a new datafeame to use for the graph:\n",
        "df = pd.concat([state, emiss], axis=1)\n",
        "df = df.rename(columns={0:'state', 1:'emissions'})\n",
        "df.tail()"
      ],
      "execution_count": 43,
      "outputs": [
        {
          "output_type": "execute_result",
          "data": {
            "text/html": [
              "<div>\n",
              "<style scoped>\n",
              "    .dataframe tbody tr th:only-of-type {\n",
              "        vertical-align: middle;\n",
              "    }\n",
              "\n",
              "    .dataframe tbody tr th {\n",
              "        vertical-align: top;\n",
              "    }\n",
              "\n",
              "    .dataframe thead th {\n",
              "        text-align: right;\n",
              "    }\n",
              "</style>\n",
              "<table border=\"1\" class=\"dataframe\">\n",
              "  <thead>\n",
              "    <tr style=\"text-align: right;\">\n",
              "      <th></th>\n",
              "      <th>state</th>\n",
              "      <th>emissions</th>\n",
              "    </tr>\n",
              "  </thead>\n",
              "  <tbody>\n",
              "    <tr>\n",
              "      <th>47</th>\n",
              "      <td>VT</td>\n",
              "      <td>0.155326</td>\n",
              "    </tr>\n",
              "    <tr>\n",
              "      <th>48</th>\n",
              "      <td>WA</td>\n",
              "      <td>69.850921</td>\n",
              "    </tr>\n",
              "    <tr>\n",
              "      <th>49</th>\n",
              "      <td>WI</td>\n",
              "      <td>267.461451</td>\n",
              "    </tr>\n",
              "    <tr>\n",
              "      <th>50</th>\n",
              "      <td>WV</td>\n",
              "      <td>444.233470</td>\n",
              "    </tr>\n",
              "    <tr>\n",
              "      <th>51</th>\n",
              "      <td>WY</td>\n",
              "      <td>271.602799</td>\n",
              "    </tr>\n",
              "  </tbody>\n",
              "</table>\n",
              "</div>"
            ],
            "text/plain": [
              "   state   emissions\n",
              "47    VT    0.155326\n",
              "48    WA   69.850921\n",
              "49    WI  267.461451\n",
              "50    WV  444.233470\n",
              "51    WY  271.602799"
            ]
          },
          "metadata": {
            "tags": []
          },
          "execution_count": 43
        }
      ]
    },
    {
      "cell_type": "markdown",
      "metadata": {
        "id": "kYwsgRRJur-e"
      },
      "source": [
        "My scound graph will represent the total emissions since 1990 by state, so we can see what state has the highest emissions:"
      ]
    },
    {
      "cell_type": "code",
      "metadata": {
        "id": "JZWZeVzWpSUD",
        "colab": {
          "base_uri": "https://localhost:8080/",
          "height": 442
        },
        "outputId": "d1bb2264-e5b5-4e3e-dfe9-76b4ff7845ca"
      },
      "source": [
        "#Visualization 2:\n",
        "\n",
        "plt.style.use('fivethirtyeight')\n",
        "\n",
        "# Make figure, X axis and Y axis:\n",
        "fig, ax = plt.subplots(figsize=(12,6))\n",
        "fig.set_facecolor('#eff6f0')\n",
        "ax.set_facecolor('#eff6f0')\n",
        "df.plot(kind='bar', y= 'emissions', x= 'state',color='#1d4a1f' ,ax=ax)\n",
        "\n",
        "#Add labels for X and Y axis:\n",
        "ax.set_xlabel('States', fontsize=12, fontweight='bold')\n",
        "ax.set_ylabel('Emissions', fontsize=12, fontweight='bold')\n",
        "\n",
        "# Add the title:\n",
        "ax.set_title(\"Total Emissions of CO2, SO2 and NOx (Tons)\", fontsize=14, fontweight='bold')\n",
        "\n",
        "ax.legend().set_visible(False)\n",
        "ax.spines['left'].set_visible(False)\n",
        "ax.spines['right'].set_visible(False)\n",
        "ax.spines['top'].set_visible(False)\n",
        "ax.spines['bottom'].set_visible(False)\n",
        "\n",
        "\n",
        "plt.show()"
      ],
      "execution_count": 44,
      "outputs": [
        {
          "output_type": "display_data",
          "data": {
            "image/png": "[encoded data removed]",
            "text/plain": [
              "<Figure size 864x432 with 1 Axes>"
            ]
          },
          "metadata": {
            "tags": []
          }
        }
      ]
    },
    {
      "cell_type": "code",
      "metadata": {
        "id": "3TkF0KWtGWo2",
        "colab": {
          "base_uri": "https://localhost:8080/",
          "height": 198
        },
        "outputId": "1a209282-97a7-4d24-9e20-16dde0786836"
      },
      "source": [
        "# Assign Texas dataset for Texas state.\n",
        "texas = elec_emissions[elec_emissions['state']=='TX']\n",
        "texas.head()"
      ],
      "execution_count": 45,
      "outputs": [
        {
          "output_type": "execute_result",
          "data": {
            "text/html": [
              "<div>\n",
              "<style scoped>\n",
              "    .dataframe tbody tr th:only-of-type {\n",
              "        vertical-align: middle;\n",
              "    }\n",
              "\n",
              "    .dataframe tbody tr th {\n",
              "        vertical-align: top;\n",
              "    }\n",
              "\n",
              "    .dataframe thead th {\n",
              "        text-align: right;\n",
              "    }\n",
              "</style>\n",
              "<table border=\"1\" class=\"dataframe\">\n",
              "  <thead>\n",
              "    <tr style=\"text-align: right;\">\n",
              "      <th></th>\n",
              "      <th>year</th>\n",
              "      <th>state</th>\n",
              "      <th>energy_source</th>\n",
              "      <th>non_clean_source</th>\n",
              "      <th>clean_source</th>\n",
              "      <th>generation (MWH)</th>\n",
              "      <th>CO2(Tons)</th>\n",
              "      <th>SO2(Tons)</th>\n",
              "      <th>NOx(Tons)</th>\n",
              "      <th>emissions</th>\n",
              "    </tr>\n",
              "  </thead>\n",
              "  <tbody>\n",
              "    <tr>\n",
              "      <th>304</th>\n",
              "      <td>1990</td>\n",
              "      <td>TX</td>\n",
              "      <td>Coal</td>\n",
              "      <td>241842792.0</td>\n",
              "      <td>0.0</td>\n",
              "      <td>241842792.0</td>\n",
              "      <td>253137640.0</td>\n",
              "      <td>968965.0</td>\n",
              "      <td>942927.0</td>\n",
              "      <td>255049532.0</td>\n",
              "    </tr>\n",
              "    <tr>\n",
              "      <th>305</th>\n",
              "      <td>1990</td>\n",
              "      <td>TX</td>\n",
              "      <td>Hydroelectric Conventional</td>\n",
              "      <td>0.0</td>\n",
              "      <td>3587250.0</td>\n",
              "      <td>3587250.0</td>\n",
              "      <td>0.0</td>\n",
              "      <td>0.0</td>\n",
              "      <td>0.0</td>\n",
              "      <td>0.0</td>\n",
              "    </tr>\n",
              "    <tr>\n",
              "      <th>306</th>\n",
              "      <td>1990</td>\n",
              "      <td>TX</td>\n",
              "      <td>Natural Gas</td>\n",
              "      <td>272468650.0</td>\n",
              "      <td>0.0</td>\n",
              "      <td>272468650.0</td>\n",
              "      <td>167774260.0</td>\n",
              "      <td>811.0</td>\n",
              "      <td>361139.0</td>\n",
              "      <td>168136210.0</td>\n",
              "    </tr>\n",
              "    <tr>\n",
              "      <th>307</th>\n",
              "      <td>1990</td>\n",
              "      <td>TX</td>\n",
              "      <td>Nuclear</td>\n",
              "      <td>0.0</td>\n",
              "      <td>31718516.0</td>\n",
              "      <td>31718516.0</td>\n",
              "      <td>0.0</td>\n",
              "      <td>0.0</td>\n",
              "      <td>0.0</td>\n",
              "      <td>0.0</td>\n",
              "    </tr>\n",
              "    <tr>\n",
              "      <th>308</th>\n",
              "      <td>1990</td>\n",
              "      <td>TX</td>\n",
              "      <td>Other</td>\n",
              "      <td>977462.0</td>\n",
              "      <td>0.0</td>\n",
              "      <td>977462.0</td>\n",
              "      <td>9562.0</td>\n",
              "      <td>19387.0</td>\n",
              "      <td>12658.0</td>\n",
              "      <td>41607.0</td>\n",
              "    </tr>\n",
              "  </tbody>\n",
              "</table>\n",
              "</div>"
            ],
            "text/plain": [
              "     year state               energy_source  ...  SO2(Tons)  NOx(Tons)    emissions\n",
              "304  1990    TX                        Coal  ...   968965.0   942927.0  255049532.0\n",
              "305  1990    TX  Hydroelectric Conventional  ...        0.0        0.0          0.0\n",
              "306  1990    TX                 Natural Gas  ...      811.0   361139.0  168136210.0\n",
              "307  1990    TX                     Nuclear  ...        0.0        0.0          0.0\n",
              "308  1990    TX                       Other  ...    19387.0    12658.0      41607.0\n",
              "\n",
              "[5 rows x 10 columns]"
            ]
          },
          "metadata": {
            "tags": []
          },
          "execution_count": 45
        }
      ]
    },
    {
      "cell_type": "markdown",
      "metadata": {
        "id": "8o1be6Iqv63z"
      },
      "source": [
        "The next graph will represent yearly electricity generated compared with the emissions for the state of Texas"
      ]
    },
    {
      "cell_type": "markdown",
      "metadata": {
        "id": "yBdUEQFUGT3P"
      },
      "source": [
        "#2- Visualisations:"
      ]
    },
    {
      "cell_type": "code",
      "metadata": {
        "id": "-r8lO0ZG3FEj",
        "colab": {
          "base_uri": "https://localhost:8080/",
          "height": 462
        },
        "outputId": "99e914d6-68a1-4e25-945e-63b4af1c129a"
      },
      "source": [
        "#Visualization 3:\n",
        "\n",
        "labels_tx = texas['year']\n",
        "non_clean_tx = texas['non_clean_source']/10**6\n",
        "clean_tx = texas['clean_source']/10**6\n",
        "\n",
        "x = texas['year']  # the label locations\n",
        "width = 0.40  # the width of the bars\n",
        "\n",
        "#Plot the X and Ys:\n",
        "fig, ax = plt.subplots(figsize=(12,6))\n",
        "ax.bar(x-width/2, non_clean_tx, width, label='Non Clean Source',color='#908fcc')\n",
        "ax.bar(x+width/2, clean_tx, width, label='Clean Source',color='#c7da91')\n",
        "\n",
        "# Add some text for labels, and custom x-axis and y-axis tick labels, etc.\n",
        "ax.set_ylabel('Electricty (Megawatthours)')\n",
        "ax.set_yticks(range(0,600,100))\n",
        "ax.set_yticklabels([0,100,200,300,400,'500M'])\n",
        "ax.set_xticks(x)\n",
        "ax.set_xticklabels(labels_tx, rotation='vertical')\n",
        "ax.set_xlabel('Years')\n",
        "\n",
        "# Sum the emissions by years:\n",
        "derp_tx = texas.groupby('year')['emissions'].sum().to_dict()\n",
        "derp_x3 = [i for i in derp_tx.keys()]\n",
        "derp_y3 = [i/10**6 for i in derp_tx.values()] # Devided by one(1) Million for graph presentation\n",
        "\n",
        "# Add a scond y-axis, plot the line, and add labels:\n",
        "ax2 = ax.twinx()\n",
        "ax2.plot(derp_x3, derp_y3, linestyle='-', label='Emissions',color='#414c20')\n",
        "ax2.set_yticks(range(0,700,100))\n",
        "ax2.set_yticklabels([0,100,200,300,400,500,'600M'])\n",
        "ax2.set_ylabel('Emissions (Metric Tons)')\n",
        "\n",
        "# Add title:\n",
        "ax.set_title('Electricity Generation Vs Emissions In Texas', fontsize= 18, fontweight='bold',color='#1a2f43')\n",
        "ax.legend()\n",
        "ax2.legend(loc='upper right')\n",
        "ax.axhline(y=0, color='#414141', linewidth=1.5, alpha=.5)\n",
        "\n",
        "\n",
        "plt.show()"
      ],
      "execution_count": 46,
      "outputs": [
        {
          "output_type": "display_data",
          "data": {
            "image/png": "[encoded data removed]",
            "text/plain": [
              "<Figure size 864x432 with 2 Axes>"
            ]
          },
          "metadata": {
            "tags": []
          }
        }
      ]
    },
    {
      "cell_type": "code",
      "metadata": {
        "id": "Eho-Uz5H7nbq",
        "colab": {
          "base_uri": "https://localhost:8080/",
          "height": 198
        },
        "outputId": "3338971f-e0aa-450d-8b91-dcd3ae311fc3"
      },
      "source": [
        "# Make a dataset for Texas for the year 2018, and check all the sources used for electricity production:\n",
        "tx_18 = texas[texas['year']==2018]\n",
        "tx_18 = tx_18.drop(['non_clean_source', 'clean_source','CO2(Tons)', 'SO2(Tons)', 'NOx(Tons)', 'emissions'], axis=1)\n",
        "tx_18['generation (MWH)'] = tx_18['generation (MWH)']/10**6\n",
        "tx_18.head()"
      ],
      "execution_count": 47,
      "outputs": [
        {
          "output_type": "execute_result",
          "data": {
            "text/html": [
              "<div>\n",
              "<style scoped>\n",
              "    .dataframe tbody tr th:only-of-type {\n",
              "        vertical-align: middle;\n",
              "    }\n",
              "\n",
              "    .dataframe tbody tr th {\n",
              "        vertical-align: top;\n",
              "    }\n",
              "\n",
              "    .dataframe thead th {\n",
              "        text-align: right;\n",
              "    }\n",
              "</style>\n",
              "<table border=\"1\" class=\"dataframe\">\n",
              "  <thead>\n",
              "    <tr style=\"text-align: right;\">\n",
              "      <th></th>\n",
              "      <th>year</th>\n",
              "      <th>state</th>\n",
              "      <th>energy_source</th>\n",
              "      <th>generation (MWH)</th>\n",
              "    </tr>\n",
              "  </thead>\n",
              "  <tbody>\n",
              "    <tr>\n",
              "      <th>12257</th>\n",
              "      <td>2018</td>\n",
              "      <td>TX</td>\n",
              "      <td>Coal</td>\n",
              "      <td>223.445285</td>\n",
              "    </tr>\n",
              "    <tr>\n",
              "      <th>12258</th>\n",
              "      <td>2018</td>\n",
              "      <td>TX</td>\n",
              "      <td>Hydroelectric Conventional</td>\n",
              "      <td>2.252756</td>\n",
              "    </tr>\n",
              "    <tr>\n",
              "      <th>12259</th>\n",
              "      <td>2018</td>\n",
              "      <td>TX</td>\n",
              "      <td>Natural Gas</td>\n",
              "      <td>479.426169</td>\n",
              "    </tr>\n",
              "    <tr>\n",
              "      <th>12260</th>\n",
              "      <td>2018</td>\n",
              "      <td>TX</td>\n",
              "      <td>Nuclear</td>\n",
              "      <td>82.371478</td>\n",
              "    </tr>\n",
              "    <tr>\n",
              "      <th>12261</th>\n",
              "      <td>2018</td>\n",
              "      <td>TX</td>\n",
              "      <td>Other</td>\n",
              "      <td>0.905258</td>\n",
              "    </tr>\n",
              "  </tbody>\n",
              "</table>\n",
              "</div>"
            ],
            "text/plain": [
              "       year state               energy_source  generation (MWH)\n",
              "12257  2018    TX                        Coal        223.445285\n",
              "12258  2018    TX  Hydroelectric Conventional          2.252756\n",
              "12259  2018    TX                 Natural Gas        479.426169\n",
              "12260  2018    TX                     Nuclear         82.371478\n",
              "12261  2018    TX                       Other          0.905258"
            ]
          },
          "metadata": {
            "tags": []
          },
          "execution_count": 47
        }
      ]
    },
    {
      "cell_type": "markdown",
      "metadata": {
        "id": "Ofyl_hbDw9zd"
      },
      "source": [
        "The next graph will represent the different sources used in generating electricity in the state of Texas"
      ]
    },
    {
      "cell_type": "code",
      "metadata": {
        "id": "PV3KdWuhGhIG",
        "colab": {
          "base_uri": "https://localhost:8080/",
          "height": 316
        },
        "outputId": "d52e5c44-edf3-4df9-ffd1-1eabef32bba5"
      },
      "source": [
        "#Visualization 4:\n",
        "\n",
        "plt.style.use('fivethirtyeight')\n",
        "\n",
        "# Make figure, X axis and Y axis:\n",
        "fig, ax = plt.subplots(figsize=(10,4))\n",
        "fig.set_facecolor('#f8eedb')\n",
        "ax.set_facecolor('#f8eedb')\n",
        "tx_18.plot(kind='barh', y= 'generation (MWH)', x= 'energy_source',color='#e2ac49' ,ax=ax)\n",
        "\n",
        "#Add labels for X and Y axis:\n",
        "ax.set_xlabel('Electricity Generated', fontsize=12, fontweight='bold')\n",
        "ax.set_xticks(range(0,600,100))\n",
        "ax.set_xticklabels([0,100,200,300,400,'500M'])\n",
        "ax.set_ylabel('Energy Sources', fontsize=12, fontweight='bold')\n",
        "\n",
        "# Add the title:\n",
        "ax.set_title(\"Sources Used To Generate Electricity In Texas 2018\", fontsize=14, fontweight='bold')\n",
        "\n",
        "ax.legend().set_visible(False)\n",
        "ax.spines['left'].set_visible(False)\n",
        "ax.spines['right'].set_visible(False)\n",
        "ax.spines['top'].set_visible(False)\n",
        "ax.spines['bottom'].set_visible(False)\n",
        "\n",
        "\n",
        "plt.show()"
      ],
      "execution_count": 48,
      "outputs": [
        {
          "output_type": "display_data",
          "data": {
            "image/png": "[encoded data removed]",
            "text/plain": [
              "<Figure size 720x288 with 1 Axes>"
            ]
          },
          "metadata": {
            "tags": []
          }
        }
      ]
    },
    {
      "cell_type": "code",
      "metadata": {
        "id": "2_XSJbnIG7ML",
        "colab": {
          "base_uri": "https://localhost:8080/",
          "height": 198
        },
        "outputId": "a0a42629-a541-4401-8647-440a15df619e"
      },
      "source": [
        "#Since Texas is secound polulated state, let compare it with the first populated state which is California:\n",
        "\n",
        "cali = elec_emissions[elec_emissions['state']=='CA']\n",
        "cali.head()"
      ],
      "execution_count": 49,
      "outputs": [
        {
          "output_type": "execute_result",
          "data": {
            "text/html": [
              "<div>\n",
              "<style scoped>\n",
              "    .dataframe tbody tr th:only-of-type {\n",
              "        vertical-align: middle;\n",
              "    }\n",
              "\n",
              "    .dataframe tbody tr th {\n",
              "        vertical-align: top;\n",
              "    }\n",
              "\n",
              "    .dataframe thead th {\n",
              "        text-align: right;\n",
              "    }\n",
              "</style>\n",
              "<table border=\"1\" class=\"dataframe\">\n",
              "  <thead>\n",
              "    <tr style=\"text-align: right;\">\n",
              "      <th></th>\n",
              "      <th>year</th>\n",
              "      <th>state</th>\n",
              "      <th>energy_source</th>\n",
              "      <th>non_clean_source</th>\n",
              "      <th>clean_source</th>\n",
              "      <th>generation (MWH)</th>\n",
              "      <th>CO2(Tons)</th>\n",
              "      <th>SO2(Tons)</th>\n",
              "      <th>NOx(Tons)</th>\n",
              "      <th>emissions</th>\n",
              "    </tr>\n",
              "  </thead>\n",
              "  <tbody>\n",
              "    <tr>\n",
              "      <th>29</th>\n",
              "      <td>1990</td>\n",
              "      <td>CA</td>\n",
              "      <td>Coal</td>\n",
              "      <td>5275354.0</td>\n",
              "      <td>0.0</td>\n",
              "      <td>5275354.0</td>\n",
              "      <td>7709620.0</td>\n",
              "      <td>63726.0</td>\n",
              "      <td>32146.0</td>\n",
              "      <td>7805492.0</td>\n",
              "    </tr>\n",
              "    <tr>\n",
              "      <th>30</th>\n",
              "      <td>1990</td>\n",
              "      <td>CA</td>\n",
              "      <td>Geothermal</td>\n",
              "      <td>29042508.0</td>\n",
              "      <td>0.0</td>\n",
              "      <td>29042508.0</td>\n",
              "      <td>721338.0</td>\n",
              "      <td>0.0</td>\n",
              "      <td>0.0</td>\n",
              "      <td>721338.0</td>\n",
              "    </tr>\n",
              "    <tr>\n",
              "      <th>31</th>\n",
              "      <td>1990</td>\n",
              "      <td>CA</td>\n",
              "      <td>Hydroelectric Conventional</td>\n",
              "      <td>0.0</td>\n",
              "      <td>47585134.0</td>\n",
              "      <td>47585134.0</td>\n",
              "      <td>0.0</td>\n",
              "      <td>0.0</td>\n",
              "      <td>0.0</td>\n",
              "      <td>0.0</td>\n",
              "    </tr>\n",
              "    <tr>\n",
              "      <th>32</th>\n",
              "      <td>1990</td>\n",
              "      <td>CA</td>\n",
              "      <td>Natural Gas</td>\n",
              "      <td>148336616.0</td>\n",
              "      <td>0.0</td>\n",
              "      <td>148336616.0</td>\n",
              "      <td>85786660.0</td>\n",
              "      <td>412.0</td>\n",
              "      <td>182489.0</td>\n",
              "      <td>85969561.0</td>\n",
              "    </tr>\n",
              "    <tr>\n",
              "      <th>33</th>\n",
              "      <td>1990</td>\n",
              "      <td>CA</td>\n",
              "      <td>Nuclear</td>\n",
              "      <td>0.0</td>\n",
              "      <td>65385614.0</td>\n",
              "      <td>65385614.0</td>\n",
              "      <td>0.0</td>\n",
              "      <td>0.0</td>\n",
              "      <td>0.0</td>\n",
              "      <td>0.0</td>\n",
              "    </tr>\n",
              "  </tbody>\n",
              "</table>\n",
              "</div>"
            ],
            "text/plain": [
              "    year state               energy_source  ...  SO2(Tons)  NOx(Tons)   emissions\n",
              "29  1990    CA                        Coal  ...    63726.0    32146.0   7805492.0\n",
              "30  1990    CA                  Geothermal  ...        0.0        0.0    721338.0\n",
              "31  1990    CA  Hydroelectric Conventional  ...        0.0        0.0         0.0\n",
              "32  1990    CA                 Natural Gas  ...      412.0   182489.0  85969561.0\n",
              "33  1990    CA                     Nuclear  ...        0.0        0.0         0.0\n",
              "\n",
              "[5 rows x 10 columns]"
            ]
          },
          "metadata": {
            "tags": []
          },
          "execution_count": 49
        }
      ]
    },
    {
      "cell_type": "markdown",
      "metadata": {
        "id": "RY4gfjQlxXz0"
      },
      "source": [
        "Will do the same graphs for the state of California"
      ]
    },
    {
      "cell_type": "code",
      "metadata": {
        "id": "RMqr32oaav4e",
        "colab": {
          "base_uri": "https://localhost:8080/",
          "height": 462
        },
        "outputId": "631bba12-3072-4456-c144-d0ffc6a57d19"
      },
      "source": [
        "#Visualization 5:\n",
        "\n",
        "labels_ca = cali['year']\n",
        "non_clean_ca = cali['non_clean_source']/10**6\n",
        "clean_ca = cali['clean_source']/10**6\n",
        "\n",
        "x = cali['year']  # the label locations\n",
        "width = 0.40  # the width of the bars\n",
        "\n",
        "#Plot the X and Ys:\n",
        "fig, ax = plt.subplots(figsize=(12,6))\n",
        "ax.bar(x-width/2, non_clean_ca, width, label='Non Clean Source',color='#e2737e')\n",
        "ax.bar(x+width/2, clean_ca, width, label='Clean Source',color='#c7da91')\n",
        "\n",
        "# Add some text for labels, and custom x-axis and y-axis tick labels, etc.\n",
        "ax.set_ylabel('Electricty (Megawatthours)')\n",
        "ax.set_yticks(range(0,400,100))\n",
        "ax.set_yticklabels([0,100,200,'300M'])\n",
        "ax.set_xticks(x)\n",
        "ax.set_xticklabels(labels_ca, rotation='vertical')\n",
        "ax.set_xlabel('Years')\n",
        "\n",
        "# Sum the emissions by years:\n",
        "derp_ca = cali.groupby('year')['emissions'].sum().to_dict()\n",
        "derp_x4 = [i for i in derp_ca.keys()]\n",
        "derp_y4 = [i/10**6 for i in derp_ca.values()]\n",
        "\n",
        "# Add a scond y-axis, plot the line, and add labels:\n",
        "ax2 = ax.twinx()\n",
        "ax2.plot(derp_x4, derp_y4, linestyle='-', label='Emissions',color='#8d333c')\n",
        "ax2.set_yticks(range(0,500,100))\n",
        "ax2.set_yticklabels([0,100,200,300,'400M'])\n",
        "ax2.set_ylabel('Emissions (Metric Tons)')\n",
        "\n",
        "# Add title:\n",
        "ax.set_title('Electricity Generation Vs Emissions In California', fontsize= 18, fontweight='bold',color='#1a2f43')\n",
        "ax.legend()\n",
        "ax2.legend(loc='upper left')\n",
        "ax.axhline(y=0, color='#414141', linewidth=1.5, alpha=.5)\n",
        "\n",
        "\n",
        "plt.show()"
      ],
      "execution_count": 50,
      "outputs": [
        {
          "output_type": "display_data",
          "data": {
            "image/png": "[encoded data removed]",
            "text/plain": [
              "<Figure size 864x432 with 2 Axes>"
            ]
          },
          "metadata": {
            "tags": []
          }
        }
      ]
    },
    {
      "cell_type": "code",
      "metadata": {
        "id": "Q2uibXdrc0fN",
        "colab": {
          "base_uri": "https://localhost:8080/",
          "height": 198
        },
        "outputId": "f25720e8-945c-4dc9-b1d2-0359746833c0"
      },
      "source": [
        "#Check all the sources used to generate electricity in California:\n",
        "ca_18 = cali[cali['year']==2018]\n",
        "ca_18 = ca_18.drop(['non_clean_source', 'clean_source','CO2(Tons)', 'SO2(Tons)', 'NOx(Tons)', 'emissions'], axis=1)\n",
        "ca_18['generation (MWH)'] = ca_18['generation (MWH)']/10**6\n",
        "ca_18.head()"
      ],
      "execution_count": 51,
      "outputs": [
        {
          "output_type": "execute_result",
          "data": {
            "text/html": [
              "<div>\n",
              "<style scoped>\n",
              "    .dataframe tbody tr th:only-of-type {\n",
              "        vertical-align: middle;\n",
              "    }\n",
              "\n",
              "    .dataframe tbody tr th {\n",
              "        vertical-align: top;\n",
              "    }\n",
              "\n",
              "    .dataframe thead th {\n",
              "        text-align: right;\n",
              "    }\n",
              "</style>\n",
              "<table border=\"1\" class=\"dataframe\">\n",
              "  <thead>\n",
              "    <tr style=\"text-align: right;\">\n",
              "      <th></th>\n",
              "      <th>year</th>\n",
              "      <th>state</th>\n",
              "      <th>energy_source</th>\n",
              "      <th>generation (MWH)</th>\n",
              "    </tr>\n",
              "  </thead>\n",
              "  <tbody>\n",
              "    <tr>\n",
              "      <th>11875</th>\n",
              "      <td>2018</td>\n",
              "      <td>CA</td>\n",
              "      <td>Coal</td>\n",
              "      <td>0.562656</td>\n",
              "    </tr>\n",
              "    <tr>\n",
              "      <th>11876</th>\n",
              "      <td>2018</td>\n",
              "      <td>CA</td>\n",
              "      <td>Geothermal</td>\n",
              "      <td>23.353682</td>\n",
              "    </tr>\n",
              "    <tr>\n",
              "      <th>11877</th>\n",
              "      <td>2018</td>\n",
              "      <td>CA</td>\n",
              "      <td>Hydroelectric Conventional</td>\n",
              "      <td>52.661333</td>\n",
              "    </tr>\n",
              "    <tr>\n",
              "      <th>11878</th>\n",
              "      <td>2018</td>\n",
              "      <td>CA</td>\n",
              "      <td>Natural Gas</td>\n",
              "      <td>179.208948</td>\n",
              "    </tr>\n",
              "    <tr>\n",
              "      <th>11879</th>\n",
              "      <td>2018</td>\n",
              "      <td>CA</td>\n",
              "      <td>Nuclear</td>\n",
              "      <td>36.427038</td>\n",
              "    </tr>\n",
              "  </tbody>\n",
              "</table>\n",
              "</div>"
            ],
            "text/plain": [
              "       year state               energy_source  generation (MWH)\n",
              "11875  2018    CA                        Coal          0.562656\n",
              "11876  2018    CA                  Geothermal         23.353682\n",
              "11877  2018    CA  Hydroelectric Conventional         52.661333\n",
              "11878  2018    CA                 Natural Gas        179.208948\n",
              "11879  2018    CA                     Nuclear         36.427038"
            ]
          },
          "metadata": {
            "tags": []
          },
          "execution_count": 51
        }
      ]
    },
    {
      "cell_type": "code",
      "metadata": {
        "id": "5EdK1FPCdHY8",
        "colab": {
          "base_uri": "https://localhost:8080/",
          "height": 316
        },
        "outputId": "b0bd9a6e-b247-4ab3-d0f7-f013730f7b45"
      },
      "source": [
        "#Visualization 6:\n",
        "\n",
        "plt.style.use('fivethirtyeight')\n",
        "\n",
        "# Make figure, X axis and Y axis:\n",
        "fig, ax = plt.subplots(figsize=(10,4))\n",
        "fig.set_facecolor('#e4f5fc')\n",
        "ax.set_facecolor('#e4f5fc')\n",
        "ca_18.plot(kind='barh', y= 'generation (MWH)', x= 'energy_source',color='#e2ac49' ,ax=ax)\n",
        "\n",
        "#Add labels for X and Y axis:\n",
        "ax.set_xlabel('Electricity Generated', fontsize=12, fontweight='bold')\n",
        "ax.set_xticks(range(0,600,100))\n",
        "ax.set_xticklabels([0,100,200,300,400,'500M'])\n",
        "ax.set_ylabel('Energy Sources', fontsize=12, fontweight='bold')\n",
        "\n",
        "# Add the title:\n",
        "ax.set_title(\"Sources Used To Generate Electricity In California 2018\", fontsize=14, fontweight='bold')\n",
        "\n",
        "ax.legend().set_visible(False)\n",
        "ax.spines['left'].set_visible(False)\n",
        "ax.spines['right'].set_visible(False)\n",
        "ax.spines['top'].set_visible(False)\n",
        "ax.spines['bottom'].set_visible(False)\n",
        "\n",
        "\n",
        "plt.show()"
      ],
      "execution_count": 52,
      "outputs": [
        {
          "output_type": "display_data",
          "data": {
            "image/png": "[encoded data removed]",
            "text/plain": [
              "<Figure size 720x288 with 1 Axes>"
            ]
          },
          "metadata": {
            "tags": []
          }
        }
      ]
    },
    {
      "cell_type": "code",
      "metadata": {
        "id": "o_E4wjFpxl3v"
      },
      "source": [
        "texas_em = texas.drop(['energy_source', 'non_clean_source', 'clean_source', 'generation (MWH)', 'CO2(Tons)', 'SO2(Tons)', 'NOx(Tons)'], axis=1)\n",
        "cali_em = cali.drop(['energy_source', 'non_clean_source', 'clean_source', 'generation (MWH)', 'CO2(Tons)', 'SO2(Tons)', 'NOx(Tons)'], axis=1)\n",
        "texas_em = texas_em.groupby([\"year\", \"state\"], as_index=False)[\"emissions\"].sum()\n",
        "cali_em = cali_em.groupby([\"year\", \"state\"], as_index=False)[\"emissions\"].sum()"
      ],
      "execution_count": 53,
      "outputs": []
    },
    {
      "cell_type": "code",
      "metadata": {
        "id": "9s6Uf_mwvlj_",
        "colab": {
          "base_uri": "https://localhost:8080/",
          "height": 548
        },
        "outputId": "6ea5cf27-4553-477a-b9cb-f7d497137e25"
      },
      "source": [
        "#Visualization:\n",
        "\n",
        "labels_ = texas_em['year']\n",
        "y1 = texas_em['emissions']/10**6\n",
        "y2 = cali_em['emissions']/10**6\n",
        "x = texas_em['year']  # the label locations\n",
        "\n",
        "fig, ax = plt.subplots(figsize=(10,6))\n",
        "sns.lineplot(x, y1, color='r', ax=ax)\n",
        "sns.lineplot(x, y2, color='b', ax=ax)\n",
        "\n",
        "# Add some text for labels, and custom x-axis and y-axis tick labels, etc.\n",
        "ax.set_ylabel('Emissions (M Tons)')\n",
        "ax.set_yticks(range(0,700,100))\n",
        "ax.set_yticklabels([0,100,200,400,500,'600M'])\n",
        "ax.set_xticks(x)\n",
        "ax.set_xticklabels(labels_ca, rotation='vertical')\n",
        "ax.set_xlabel('Years')\n",
        "ax.set_title('Emissions From Electricity Generation', fontsize=14)\n",
        "\n",
        "\n",
        "ax.legend(['Texas Emissions', 'California Emissions'])\n",
        "plt.show()"
      ],
      "execution_count": 54,
      "outputs": [
        {
          "output_type": "stream",
          "text": [
            "/usr/local/lib/python3.6/dist-packages/seaborn/_decorators.py:43: FutureWarning: Pass the following variables as keyword args: x, y. From version 0.12, the only valid positional argument will be `data`, and passing other arguments without an explicit keyword will result in an error or misinterpretation.\n",
            "  FutureWarning\n",
            "/usr/local/lib/python3.6/dist-packages/seaborn/_decorators.py:43: FutureWarning: Pass the following variables as keyword args: x, y. From version 0.12, the only valid positional argument will be `data`, and passing other arguments without an explicit keyword will result in an error or misinterpretation.\n",
            "  FutureWarning\n"
          ],
          "name": "stderr"
        },
        {
          "output_type": "display_data",
          "data": {
            "image/png": "[encoded data removed]",
            "text/plain": [
              "<Figure size 720x432 with 1 Axes>"
            ]
          },
          "metadata": {
            "tags": []
          }
        }
      ]
    },
    {
      "cell_type": "code",
      "metadata": {
        "id": "-WGamDLFzPS-"
      },
      "source": [
        ""
      ],
      "execution_count": 54,
      "outputs": []
    }
  ]
}